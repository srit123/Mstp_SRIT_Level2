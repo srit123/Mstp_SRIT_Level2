{
 "cells": [
  {
   "cell_type": "markdown",
   "metadata": {},
   "source": [
    "### Day Objectives\n",
    "### Date: 23-10-2019\n",
    "* Email Pattern\n",
    "* Mobileno Pattern\n",
    "* re module methods"
   ]
  },
  {
   "cell_type": "code",
   "execution_count": 1,
   "metadata": {},
   "outputs": [],
   "source": [
    "#username@domain.extension\n",
    "#Username:(15)\n",
    "#    - Charcter set\n",
    "#    - Numbers\n",
    "#    - _.\n",
    "#Domain:(3-8):\n",
    "#    - character set\n",
    "\n",
    "# extension:(2-4)\n",
    "#Email Pattern : [a-zA-Z0-9_.]{1,15}[@][a-z]{3,6}[.][a-z.]{2,6}\n",
    "#Mobileno Pattern:[6-9]{1}[0-9]{9}\n",
    "\n",
    "\n"
   ]
  },
  {
   "cell_type": "code",
   "execution_count": 3,
   "metadata": {},
   "outputs": [
    {
     "name": "stdout",
     "output_type": "stream",
     "text": [
      "startIndex:0,endIndex:2,matchedString:ab\n",
      "startIndex:3,endIndex:5,matchedString:ab\n",
      "startIndex:7,endIndex:9,matchedString:ab\n"
     ]
    }
   ],
   "source": [
    "import re\n",
    "matcher = re.finditer('ab','abaabaaab')\n",
    "for match in matcher:\n",
    "    print('startIndex:{},endIndex:{},matchedString:{}'\n",
    "          .format(match.start(),match.end(),match.group()))"
   ]
  },
  {
   "cell_type": "code",
   "execution_count": 6,
   "metadata": {},
   "outputs": [
    {
     "name": "stdout",
     "output_type": "stream",
     "text": [
      "3 ---------- @\n"
     ]
    }
   ],
   "source": [
    "#Charcter Classes:\n",
    "# [abc] --> either a or b or c\n",
    "# [^abc] -- > except a and b and c\n",
    "# [a-z] -- > lower case alphabet symbols\n",
    "# [A-Z] -- > Uppercase Alphabets\n",
    "# [a-zA-Z] -- >Any Alphabet\n",
    "# [0-9] -- > any digit\n",
    "# [a-zA-Z0-9] -- > Alpha Numeric Characters\n",
    "# [^a-zA-Z0-9] -- > Except Alpha numeric means special characters\n",
    "matcher = re.finditer('[^a-zA-Z0-9]','a7b@k9z')\n",
    "for match in matcher:\n",
    "    print(match.start(),'----------',match.group())\n"
   ]
  },
  {
   "cell_type": "code",
   "execution_count": 16,
   "metadata": {},
   "outputs": [
    {
     "name": "stdout",
     "output_type": "stream",
     "text": [
      "0 ----------- a\n",
      "1 ----------- 7\n",
      "2 ----------- b\n",
      "3 ----------- c\n",
      "4 -----------  \n",
      "5 ----------- @\n",
      "6 ----------- 1\n",
      "7 ----------- 2\n",
      "8 ----------- z\n",
      "9 ----------- a\n",
      "10 -----------  \n",
      "11 ----------- k\n",
      "12 ----------- z\n"
     ]
    }
   ],
   "source": [
    "# Predefined Character Classes:\n",
    "# \\s -- > space Character\n",
    "# \\S -- > Except space character\n",
    "# \\d -- > [0-9] Any digit\n",
    "# \\D -- > except digits\n",
    "# \\w -- > Any Word character which consist of alphanumeric\n",
    "# \\W -- > Any Character except word [^a-zA-Z0-9] \n",
    "# . -- > Any Character(alphabet,digits,sepecial characters)\n",
    "matcher = re.finditer('.','a7bc @12za kz')\n",
    "for m in matcher:\n",
    "    print(m.start(),'-----------',m.group())"
   ]
  },
  {
   "cell_type": "code",
   "execution_count": 26,
   "metadata": {},
   "outputs": [],
   "source": [
    "#Quntifiers: It can used to specify the number of occurances to match\n",
    "# a -- > exatcly one 'a'\n",
    "# a+ -- > atleast one 'a'\n",
    "# a* -- > any number of 'a's including zero number also\n",
    "# a? -- > at ,ost one 'a' either one 'a' or zero number of 'a's\n",
    "# a{n} -- > Exactly n number of 'a's\n",
    "# a{m,n} -- > minimum 'm' number of 'a's and maximum 'n' number of 'a's \n",
    "# ^a -- > It will check whether the given target string starts with 'a' or not\n",
    "# a$ -- > It will check whether the given target string ends with 'a' or not\n",
    "matcher = re.finditer('^a','baabaaab')\n",
    "for m in matcher:\n",
    "    print(m.start(),\"----------\",m.group())"
   ]
  },
  {
   "cell_type": "code",
   "execution_count": 28,
   "metadata": {},
   "outputs": [],
   "source": [
    "#Important functions of re module\n",
    "# 1.match() -- >To check the given pattern at begining of the target string.\n",
    "#                It it is available then it will returns match object otherwise\n",
    "#                None\n",
    "2.fullmatch()\n",
    "3.search()\n",
    "4.findall()\n",
    "5.finditer()\n",
    "6.sub()\n",
    "7.subn()\n",
    "8.split()\n",
    "9.compile()\n",
    "\n"
   ]
  },
  {
   "cell_type": "code",
   "execution_count": 31,
   "metadata": {},
   "outputs": [
    {
     "name": "stdout",
     "output_type": "stream",
     "text": [
      "Enter mobile no 6301067787\n",
      "The given mobile number is valid\n"
     ]
    }
   ],
   "source": [
    "# 1.match() -- >To check the given pattern at begining of the target string.\n",
    "#                It it is available then it will returns match object otherwise\n",
    "#                None\n",
    "mobile = input('Enter mobile no ')\n",
    "m = re.match('[6-9]{1}[0-9]{9}',mobile)\n",
    "if m!=None:\n",
    "    print('The given mobile number is valid')\n",
    "else:\n",
    "    print('Invalid mobile no')\n"
   ]
  },
  {
   "cell_type": "code",
   "execution_count": 32,
   "metadata": {},
   "outputs": [
    {
     "name": "stdout",
     "output_type": "stream",
     "text": [
      "['7', '8', '6', '7']\n"
     ]
    }
   ],
   "source": [
    "l = re.findall('[0-9]','ab786k7z')\n",
    "print(l)"
   ]
  },
  {
   "cell_type": "code",
   "execution_count": 35,
   "metadata": {},
   "outputs": [
    {
     "name": "stdout",
     "output_type": "stream",
     "text": [
      "('ab###k#z', 4)\n"
     ]
    }
   ],
   "source": [
    "s = re.subn(\"\\d\",'#','ab786k7z')\n",
    "print(s)"
   ]
  },
  {
   "cell_type": "markdown",
   "metadata": {},
   "source": []
  },
  {
   "cell_type": "code",
   "execution_count": null,
   "metadata": {},
   "outputs": [],
   "source": [
    "# 1-2\n",
    "# 2-4\n",
    "# 3-6\n",
    "#abcd bcda\n",
    "t = 2\n",
    "for i in range(2):\n",
    "    s = input().split()\n",
    "    a = s[0]\n",
    "    b = s[1]"
   ]
  }
 ],
 "metadata": {
  "kernelspec": {
   "display_name": "Python 3",
   "language": "python",
   "name": "python3"
  },
  "language_info": {
   "codemirror_mode": {
    "name": "ipython",
    "version": 3
   },
   "file_extension": ".py",
   "mimetype": "text/x-python",
   "name": "python",
   "nbconvert_exporter": "python",
   "pygments_lexer": "ipython3",
   "version": "3.7.3"
  }
 },
 "nbformat": 4,
 "nbformat_minor": 2
}
