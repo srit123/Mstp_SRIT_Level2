{
 "cells": [
  {
   "cell_type": "markdown",
   "metadata": {},
   "source": [
    "# Heding1\n",
    "\n",
    "## Headig2\n",
    "\n",
    "### Heading3\n",
    "\n",
    "#### Heading4\n",
    "\n",
    "**Bold**\n",
    "\n",
    "*Italic*\n",
    "\n",
    "***Italic and Bold***\n",
    "\n",
    "* List1\n",
    "    * sublist1\n",
    "    * sublist2\n",
    "    * sublist3\n",
    "* list2\n",
    "* List3\n",
    "\n",
    "\n",
    "\n",
    "1. Ordered List1\n",
    "2. Ordered List2\n",
    "3. ordered List4\n",
    "\n",
    "\n",
    "<img src=\"a.png\"  style=\"width:100px;height:100px;\" align=\"center\">  <br>\n",
    "\n",
    "<https://www.srit.ac.in>\n"
   ]
  },
  {
   "cell_type": "markdown",
   "metadata": {},
   "source": [
    "## Python Basics"
   ]
  },
  {
   "cell_type": "code",
   "execution_count": 4,
   "metadata": {},
   "outputs": [
    {
     "name": "stdout",
     "output_type": "stream",
     "text": [
      "Hello Word\n",
      "Mastan Vali\n"
     ]
    }
   ],
   "source": [
    "#Print function in python\n",
    "print(\"Hello Word\")\n",
    "print('Mastan Vali')"
   ]
  },
  {
   "cell_type": "markdown",
   "metadata": {},
   "source": [
    "### Varibles in Python"
   ]
  },
  {
   "cell_type": "code",
   "execution_count": 21,
   "metadata": {},
   "outputs": [
    {
     "data": {
      "text/plain": [
       "bool"
      ]
     },
     "execution_count": 21,
     "metadata": {},
     "output_type": "execute_result"
    }
   ],
   "source": [
    "a = 40\n",
    "b = 40.5\n",
    "c = \"pyhton\"\n",
    "d = True\n",
    "d\n",
    "a\n",
    "c\n",
    "type(a)#type() method will gives the varible data type\n",
    "type(c)\n",
    "type(d)"
   ]
  },
  {
   "cell_type": "code",
   "execution_count": 24,
   "metadata": {},
   "outputs": [
    {
     "data": {
      "text/plain": [
       "30"
      ]
     },
     "execution_count": 24,
     "metadata": {},
     "output_type": "execute_result"
    }
   ],
   "source": [
    "a,b,c = 10,20,30\n",
    "a\n",
    "b\n",
    "c"
   ]
  },
  {
   "cell_type": "code",
   "execution_count": 28,
   "metadata": {},
   "outputs": [
    {
     "data": {
      "text/plain": [
       "445"
      ]
     },
     "execution_count": 28,
     "metadata": {},
     "output_type": "execute_result"
    }
   ],
   "source": [
    "a=b=c=445\n",
    "a\n",
    "c\n",
    "a"
   ]
  },
  {
   "cell_type": "markdown",
   "metadata": {},
   "source": [
    "#### Type Conversion"
   ]
  },
  {
   "cell_type": "code",
   "execution_count": 45,
   "metadata": {},
   "outputs": [
    {
     "data": {
      "text/plain": [
       "50"
      ]
     },
     "execution_count": 45,
     "metadata": {},
     "output_type": "execute_result"
    }
   ],
   "source": [
    "s = 50\n",
    "s\n",
    "float(s)#To convert to float\n",
    "str(s)#to convert to String\n",
    "int(s)#to covert to Integre"
   ]
  },
  {
   "cell_type": "code",
   "execution_count": 49,
   "metadata": {},
   "outputs": [
    {
     "name": "stdout",
     "output_type": "stream",
     "text": [
      "12.345600\n"
     ]
    }
   ],
   "source": [
    "d = 12.3456\n",
    "print(\"%.6f\"%d)"
   ]
  },
  {
   "cell_type": "markdown",
   "metadata": {},
   "source": [
    "## Operators"
   ]
  },
  {
   "cell_type": "markdown",
   "metadata": {},
   "source": [
    "##### Arthematic Operators"
   ]
  },
  {
   "cell_type": "code",
   "execution_count": 39,
   "metadata": {},
   "outputs": [
    {
     "data": {
      "text/plain": [
       "25"
      ]
     },
     "execution_count": 39,
     "metadata": {},
     "output_type": "execute_result"
    }
   ],
   "source": [
    "# +,-,*,/,//,%,**,\n",
    "a = 5\n",
    "b = 2\n",
    "a+b#Addition\n",
    "a-b#SubStraction\n",
    "a*b#Multiplication\n",
    "a/b#It gives float result\n",
    "a//b#It gives Integer Result\n",
    "a%b#It gives Reminder\n",
    "a**2#It gives power of 2"
   ]
  },
  {
   "cell_type": "code",
   "execution_count": null,
   "metadata": {},
   "outputs": [],
   "source": [
    "and or not"
   ]
  }
 ],
 "metadata": {
  "kernelspec": {
   "display_name": "Python 3",
   "language": "python",
   "name": "python3"
  },
  "language_info": {
   "codemirror_mode": {
    "name": "ipython",
    "version": 3
   },
   "file_extension": ".py",
   "mimetype": "text/x-python",
   "name": "python",
   "nbconvert_exporter": "python",
   "pygments_lexer": "ipython3",
   "version": "3.7.3"
  }
 },
 "nbformat": 4,
 "nbformat_minor": 2
}
