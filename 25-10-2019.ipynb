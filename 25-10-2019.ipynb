{
 "cells": [
  {
   "cell_type": "code",
   "execution_count": null,
   "metadata": {},
   "outputs": [],
   "source": [
    "# 1.read->'r'\n",
    "# 2.write->'w'\n",
    "# 3.append->'a'\n",
    "# 4.create->'x'\n",
    "\n",
    "# open(filename,mode)"
   ]
  },
  {
   "cell_type": "code",
   "execution_count": 3,
   "metadata": {},
   "outputs": [
    {
     "ename": "FileExistsError",
     "evalue": "[Errno 17] File exists: 'student.txt'",
     "output_type": "error",
     "traceback": [
      "\u001b[1;31m---------------------------------------------------------------------------\u001b[0m",
      "\u001b[1;31mFileExistsError\u001b[0m                           Traceback (most recent call last)",
      "\u001b[1;32m<ipython-input-3-f1a6cb548ec5>\u001b[0m in \u001b[0;36m<module>\u001b[1;34m\u001b[0m\n\u001b[0;32m      1\u001b[0m \u001b[1;31m#1.create new text file.\u001b[0m\u001b[1;33m\u001b[0m\u001b[1;33m\u001b[0m\u001b[1;33m\u001b[0m\u001b[0m\n\u001b[1;32m----> 2\u001b[1;33m \u001b[0mfh\u001b[0m\u001b[1;33m=\u001b[0m\u001b[0mopen\u001b[0m\u001b[1;33m(\u001b[0m\u001b[1;34m'student.txt'\u001b[0m\u001b[1;33m,\u001b[0m\u001b[1;34m'x'\u001b[0m\u001b[1;33m)\u001b[0m\u001b[1;33m\u001b[0m\u001b[1;33m\u001b[0m\u001b[0m\n\u001b[0m\u001b[0;32m      3\u001b[0m \u001b[0mprint\u001b[0m\u001b[1;33m(\u001b[0m\u001b[1;34m'File creation sucessfully completed'\u001b[0m\u001b[1;33m)\u001b[0m\u001b[1;33m\u001b[0m\u001b[1;33m\u001b[0m\u001b[0m\n\u001b[0;32m      4\u001b[0m \u001b[1;33m\u001b[0m\u001b[0m\n",
      "\u001b[1;31mFileExistsError\u001b[0m: [Errno 17] File exists: 'student.txt'"
     ]
    }
   ],
   "source": [
    "#1.create new text file.\n",
    "fh=open('student.txt','x')\n",
    "print('File creation sucessfully completed')\n",
    "    "
   ]
  },
  {
   "cell_type": "code",
   "execution_count": 8,
   "metadata": {},
   "outputs": [
    {
     "data": {
      "text/plain": [
       "18"
      ]
     },
     "execution_count": 8,
     "metadata": {},
     "output_type": "execute_result"
    }
   ],
   "source": [
    "#2.function to create a writing data into file using write method.\n",
    "def writing_data(filepath):\n",
    "    with open(filepath,'a')as fh:\n",
    "        filedata=fh.write('\\nhai hello welcome')\n",
    "    return filedata\n",
    "fp='student.txt'\n",
    "writing_data(fp)"
   ]
  },
  {
   "cell_type": "code",
   "execution_count": 12,
   "metadata": {},
   "outputs": [
    {
     "name": "stdout",
     "output_type": "stream",
     "text": [
      "Welcome \n"
     ]
    }
   ],
   "source": [
    "#3. function to create a to read the data from file using read method.\n",
    "def read_data(filepath):\n",
    "    with open(filepath,'r')as fh:\n",
    "        filedata=fh.read(8) # it returns number of characters from the file including space.\n",
    "    return filedata\n",
    "fp='student.txt'\n",
    "print(read_data(fp))"
   ]
  },
  {
   "cell_type": "code",
   "execution_count": 33,
   "metadata": {},
   "outputs": [
    {
     "name": "stdout",
     "output_type": "stream",
     "text": [
      "['Welcome to apssdc hai hello welcome\\n', 'hai hello welcome\\n', 'welocme srit\\n', 'hello world\\n', 'welcome']\n"
     ]
    }
   ],
   "source": [
    "#4. function to create a to display the number of lines from the file using readline.\n",
    "def readline_data(filepath):\n",
    "    with open(filepath,'r')as fh:\n",
    "        filedata=fh.readlines()# It returns only first line from the file.\n",
    "    return filedata\n",
    "fp='student.txt'\n",
    "print(readline_data(fp))"
   ]
  },
  {
   "cell_type": "code",
   "execution_count": 38,
   "metadata": {},
   "outputs": [
    {
     "name": "stdout",
     "output_type": "stream",
     "text": [
      "14\n"
     ]
    }
   ],
   "source": [
    "#5. Function to create a to print number of words form the file.\n",
    "def words_count(filepath):\n",
    "    with open(filepath,'r')as fh:\n",
    "        filedata=fh.read()\n",
    "        wc=len(filedata.split())\n",
    "    return wc\n",
    "fp='student.txt'\n",
    "print(words_count(fp))"
   ]
  },
  {
   "cell_type": "code",
   "execution_count": 39,
   "metadata": {},
   "outputs": [
    {
     "name": "stdout",
     "output_type": "stream",
     "text": [
      "['Welcome', 'to', 'apssdc', 'hai', 'hello', 'welcome', 'hai', 'hello', 'welcome', 'welocme', 'srit', 'hello', 'world', 'welcome']\n"
     ]
    }
   ],
   "source": [
    "# 6. function to create to display the words from file..\n",
    "def words_count(filepath):\n",
    "    with open(filepath,'r')as fh:\n",
    "        filedata=fh.read()\n",
    "        wc=filedata.split()\n",
    "    return wc\n",
    "fp='student.txt'\n",
    "print(words_count(fp))"
   ]
  },
  {
   "cell_type": "code",
   "execution_count": 53,
   "metadata": {},
   "outputs": [
    {
     "name": "stdout",
     "output_type": "stream",
     "text": [
      "['srit', 'Welcome', 'to', 'world', 'welcome', 'hello', 'hai', 'apssdc', 'welocme']\n"
     ]
    }
   ],
   "source": [
    "# 7 . function to create to display unique words from the file...\n",
    "def unique_words(filepath):\n",
    "    unique=[]\n",
    "    with open(filepath,'r')as fh:\n",
    "        filedata=fh.read()\n",
    "        data=filedata.split()\n",
    "#     for i in data:\n",
    "#         if i not in unique:\n",
    "#             unique.append(i)\n",
    "        d=set(data)\n",
    "    return list(d)\n",
    "fp='student.txt'\n",
    "print(unique_words(fp))"
   ]
  },
  {
   "cell_type": "code",
   "execution_count": 56,
   "metadata": {},
   "outputs": [
    {
     "name": "stdout",
     "output_type": "stream",
     "text": [
      "['3435', '233', '56', '45']\n"
     ]
    }
   ],
   "source": [
    "l1=[]\n",
    "def print_numbers(filepath):\n",
    "    with open(filepath,'r')as fh:\n",
    "        filedata=fh.read()\n",
    "    for i in filedata:\n",
    "        if i.isdigit():\n",
    "            l1.append(i)\n",
    "        \n",
    "    return l1\n",
    "fp='student.txt'\n",
    "print(print_numbers(fp))"
   ]
  },
  {
   "cell_type": "markdown",
   "metadata": {},
   "source": [
    "\n",
    "### Find and Replace Application\n",
    "\n",
    "- Check if a word is existing in a file\n",
    "    - wordExists(filepath, word)\n",
    "- Count the total number of occurrences of a word in a file\n",
    "    - countWordOccurrences(filepath, word)\n",
    "- Replace all occurences of a word in a file\n",
    "    - replaceWord(filepath, word)\n",
    "    \n",
    "\n",
    "### Marks Analysis Report\n",
    "- Generate Marks\n",
    "    - generateMarks(n, lb, ub)\n",
    "- Generate a report of the following\n",
    "    - Class Average - classAverage(filepath)\n",
    "    - % Passed - passPercentage(filepath)\n",
    "    - % Failed - failPercentage(filepath)\n",
    "    - % Distinction - distinctionPercentage(filepath)\n",
    "    - Frequency of Highest mark - frequencyHighest(filepath)\n",
    "    - Frequency of lowest mark - frequencyLowest(filepath)\n",
    "    - GenerateReport(filepath):\n",
    "    \n",
    " ### Contacts Application\n",
    " - addContact(name, phone, email)\n",
    " - searchContact(name)\n",
    " - listContacts()\n",
    " - editContact(name, newphone, newemail)\n",
    " - deleteContact(name)\n",
    " - contactsApp()\n",
    "    \n"
   ]
  },
  {
   "cell_type": "code",
   "execution_count": 9,
   "metadata": {},
   "outputs": [],
   "source": [
    "import random \n",
    "def generateMarks(n,l,u):\n",
    "    with open('DataFiles\\\\marks.txt','w') as f:\n",
    "        for i in range(n):\n",
    "            f.write(str(random.randint(l,u)))\n",
    "            f.write('\\n')\n",
    "generateMarks(5,1,101)"
   ]
  },
  {
   "cell_type": "code",
   "execution_count": 24,
   "metadata": {},
   "outputs": [
    {
     "name": "stdout",
     "output_type": "stream",
     "text": [
      "#\n",
      "apssdc\n",
      "hello apssdc \n",
      "mastan from apssdc\n",
      "narmada from apssdc\n"
     ]
    }
   ],
   "source": [
    "import re\n",
    "def replaceword(filepath):\n",
    "    with open(filepath,'r') as f:\n",
    "        data = f.read()\n",
    "        d=re.sub(word,rep,data)\n",
    "        print(d)\n",
    "    with open(filepath,'w')as f:\n",
    "        f.write(d)\n",
    "word=input()\n",
    "rep=input()\n",
    "filepath = 'DataFiles/newfile.txt'\n",
    "replaceword(filepath)"
   ]
  },
  {
   "cell_type": "code",
   "execution_count": null,
   "metadata": {},
   "outputs": [],
   "source": [
    "def \n",
    "word=input()\n",
    "replace=input()\n",
    "replaceword(\"DataFiles\\\\newfile.txt\")"
   ]
  }
 ],
 "metadata": {
  "kernelspec": {
   "display_name": "Python 3",
   "language": "python",
   "name": "python3"
  },
  "language_info": {
   "codemirror_mode": {
    "name": "ipython",
    "version": 3
   },
   "file_extension": ".py",
   "mimetype": "text/x-python",
   "name": "python",
   "nbconvert_exporter": "python",
   "pygments_lexer": "ipython3",
   "version": "3.7.3"
  }
 },
 "nbformat": 4,
 "nbformat_minor": 2
}
