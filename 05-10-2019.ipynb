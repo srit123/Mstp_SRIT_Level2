{
 "cells": [
  {
   "cell_type": "code",
   "execution_count": null,
   "metadata": {},
   "outputs": [],
   "source": [
    "#Task\n",
    "- Create A method(contactsApp()) that executes  the following menu infinite times.\n",
    "    - 1.Add Contact\n",
    "        - User has enter name,mobile number\n",
    "    - 2.Search For Contact\n",
    "        - User has to enter name,based on the name search for contact\n",
    "    - 3.Update Contact\n",
    "        - User has to enter name and based on the name update the contact\n",
    "    - 4.Delete Contact\n",
    "        - User has to enter name ,based on the name delete the contact\n",
    "    - 5.List All Contacts\n",
    "        - Print all contacts in the below format\n",
    "            Name         Number    e\n",
    "            --------------------\n",
    "            Mastan       9988998877\n",
    "            .\n",
    "            .\n",
    "            .\n",
    "    - 6.Exit App\n",
    "        - When the user selects this option exit tha app\n",
    "        \n",
    "d = {\"name1\":[mobileno,mastan@apssdc.in],\"name2\":[3434767456,name2@apssdc.in]}\n"
   ]
  }
 ],
 "metadata": {
  "kernelspec": {
   "display_name": "Python 3",
   "language": "python",
   "name": "python3"
  },
  "language_info": {
   "codemirror_mode": {
    "name": "ipython",
    "version": 3
   },
   "file_extension": ".py",
   "mimetype": "text/x-python",
   "name": "python",
   "nbconvert_exporter": "python",
   "pygments_lexer": "ipython3",
   "version": "3.7.3"
  }
 },
 "nbformat": 4,
 "nbformat_minor": 2
}
