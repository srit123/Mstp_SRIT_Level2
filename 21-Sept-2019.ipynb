{
 "cells": [
  {
   "cell_type": "markdown",
   "metadata": {},
   "source": [
    "## Day Objectives\n",
    "### Date 21-sept-2019\n",
    "* YesterDay Topics Revision\n",
    "* Operators in Python\n",
    "    * Artgemetic Operators(+,-,*,/,%,//,**)\n",
    "    * Assignment operators(=,+=,-=,*=,/=,//=,**=)\n",
    "    * Comparison operators(or)Relational operators(<,<=,>,>=,!=,==)\n",
    "    * Logical operators(and,or,not)\n",
    "    * Identity operators(is,is not)\n",
    "    * Membership operators(in, not in)\n",
    "    * Bitwise operators(&,|,^,~,<<,>>)\n",
    "* Conditional Statements\n",
    "    * If\n",
    "    * If Else\n",
    "    * Nested If\n",
    "    * elif\n",
    "  \n",
    "* Loops\n",
    "    * For Loop\n",
    "    * While loop\n"
   ]
  },
  {
   "cell_type": "code",
   "execution_count": 15,
   "metadata": {},
   "outputs": [
    {
     "data": {
      "text/plain": [
       "1"
      ]
     },
     "execution_count": 15,
     "metadata": {},
     "output_type": "execute_result"
    }
   ],
   "source": [
    "#Assignment operators(=,+=,-=,*=,/=,//=,**=)\n",
    "a=10\n",
    "a\n",
    "a+=1 #a=a+1\n",
    "a    #a=11\n",
    "a-=1 #a=a-1\n",
    "a   #a=10\n",
    "a*=2 #a=a*2\n",
    "a    #a=20\n",
    "a/=3 #a=a/3\n",
    "a    #6.666\n",
    "b=20\n",
    "b//=3 #b=b//3\n",
    "b     #b=6\n",
    "b**=2 #b=b**2\n",
    "b\n",
    "b%=5  #b=b%5\n",
    "b"
   ]
  },
  {
   "cell_type": "code",
   "execution_count": 21,
   "metadata": {},
   "outputs": [
    {
     "name": "stdout",
     "output_type": "stream",
     "text": [
      "True\n",
      "True\n",
      "False\n",
      "False\n",
      "True\n",
      "False\n"
     ]
    }
   ],
   "source": [
    "# Comparison operators(or)Relational operators(<,<=,>,>=,!=,==) It returns true or false\n",
    "p=10\n",
    "q=20\n",
    "print(p<q)\n",
    "print(p<=q)\n",
    "print(p>q)\n",
    "print(p>=q)\n",
    "print(p!=q)\n",
    "print(p==q)"
   ]
  },
  {
   "cell_type": "code",
   "execution_count": 30,
   "metadata": {},
   "outputs": [
    {
     "name": "stdout",
     "output_type": "stream",
     "text": [
      "False\n",
      "True\n",
      "False\n"
     ]
    }
   ],
   "source": [
    "# Logical operators(and,or,not)\n",
    "print(10>5 and 2<1)\n",
    "#      1   and  0  => 0\n",
    "print(10<4 or 15>3)\n",
    "#      0   0r  1  =>1\n",
    "a=10\n",
    "print(not(a>5 and a>3))\n",
    "#     not(true)"
   ]
  },
  {
   "cell_type": "code",
   "execution_count": 33,
   "metadata": {},
   "outputs": [
    {
     "name": "stdout",
     "output_type": "stream",
     "text": [
      "2\n",
      "14\n",
      "-11\n"
     ]
    }
   ],
   "source": [
    "# Bitwise operators(&,|,^(X-OR),~,<<,>>)\n",
    "a=10 #\n",
    "b=6\n",
    "#   8 4 2 1\n",
    "# a=1 0 1 0\n",
    "# b=0 1 1 0\n",
    "#   =======\n",
    "# & 0 0 1 0 => 2\n",
    "# | 1 1 1 0 =>14\n",
    "print(a&b)\n",
    "print(a|b)\n",
    "print(~a) # -(a+1) ==>-(10+1)=>-11"
   ]
  },
  {
   "cell_type": "code",
   "execution_count": 34,
   "metadata": {},
   "outputs": [
    {
     "data": {
      "text/plain": [
       "38"
      ]
     },
     "execution_count": 34,
     "metadata": {},
     "output_type": "execute_result"
    }
   ],
   "source": [
    "a=76\n",
    "a>>1"
   ]
  },
  {
   "cell_type": "code",
   "execution_count": 35,
   "metadata": {},
   "outputs": [
    {
     "data": {
      "text/plain": [
       "3"
      ]
     },
     "execution_count": 35,
     "metadata": {},
     "output_type": "execute_result"
    }
   ],
   "source": [
    "a=6\n",
    "a>>1"
   ]
  },
  {
   "cell_type": "code",
   "execution_count": 36,
   "metadata": {},
   "outputs": [
    {
     "data": {
      "text/plain": [
       "1"
      ]
     },
     "execution_count": 36,
     "metadata": {},
     "output_type": "execute_result"
    }
   ],
   "source": [
    "a>>2"
   ]
  },
  {
   "cell_type": "code",
   "execution_count": 39,
   "metadata": {},
   "outputs": [
    {
     "name": "stdout",
     "output_type": "stream",
     "text": [
      "64\n"
     ]
    }
   ],
   "source": [
    "a=8\n",
    "print(a<<3) # value << number of shift"
   ]
  },
  {
   "cell_type": "code",
   "execution_count": 45,
   "metadata": {},
   "outputs": [
    {
     "name": "stdout",
     "output_type": "stream",
     "text": [
      "4 is even number\n"
     ]
    }
   ],
   "source": [
    "# * Conditional Statements\n",
    "#     * if\n",
    "#     * if Else\n",
    "#     * Nested If\n",
    "# if condition:\n",
    "#    statements\n",
    "# 1.To heck wheather it is given number is even number or odd number?\n",
    "#  input : n=10\n",
    "# output : 10 is even number\n",
    "# static way of implemention\n",
    "n=4\n",
    "if n%2==0:\n",
    "    print(\"%d is even number\"%n)"
   ]
  },
  {
   "cell_type": "code",
   "execution_count": 55,
   "metadata": {},
   "outputs": [
    {
     "name": "stdout",
     "output_type": "stream",
     "text": [
      "Welcome\n"
     ]
    }
   ],
   "source": [
    "a=7\n",
    "if a>3:\n",
    "    print(\"Welcome\")\n"
   ]
  },
  {
   "cell_type": "code",
   "execution_count": null,
   "metadata": {},
   "outputs": [],
   "source": [
    "# syntax if if-else:\n",
    "#if-else statment\n",
    "# if condition:\n",
    "#     statement\n",
    "# else:\n",
    "#     statement"
   ]
  },
  {
   "cell_type": "code",
   "execution_count": 58,
   "metadata": {},
   "outputs": [
    {
     "name": "stdout",
     "output_type": "stream",
     "text": [
      "20 is biggest value.\n"
     ]
    }
   ],
   "source": [
    "#Write a python program to find the biggest of two numbers?\n",
    "#input : a=10 b=20\n",
    "#Output: 20 is biggest value.\n",
    "a=10\n",
    "b=20\n",
    "if a>b:\n",
    "    print(\"%d is biggest value.\"%a)\n",
    "else:\n",
    "    print(\"%d is biggest value.\"%b)"
   ]
  },
  {
   "cell_type": "code",
   "execution_count": 59,
   "metadata": {},
   "outputs": [],
   "source": [
    "# Tasks:---\n",
    "#1.write a python program to check wheather it is given number\n",
    "# is positive number or negative number?\n",
    "\n",
    "#2.write a python program to check wheather it is given \n",
    "# two numbers equal or not?\n",
    "\n",
    "#3.write a python program to check wheather it is given year\n",
    "# leap year or not?\n",
    "\n",
    "#4.Write python program to check \n",
    "# if age is greater than 18 print Adult else print child\n",
    "\n",
    "#5.Write a python program to calulate the simple intrest\n"
   ]
  },
  {
   "cell_type": "code",
   "execution_count": 16,
   "metadata": {},
   "outputs": [
    {
     "name": "stdout",
     "output_type": "stream",
     "text": [
      "Enter a number 20\n",
      "Enter b number 30\n",
      "20 30  numbers are\n"
     ]
    }
   ],
   "source": [
    "#Taking input from User\n",
    "# If you want to take the input from the user there is \n",
    "#predefined  method called input()\n",
    "\n",
    "a = int(input(\"Enter a number \"))\n",
    "b = int(input(\"Enter b number \"))\n",
    "print(a,b,\" numbers are\")\n"
   ]
  },
  {
   "cell_type": "markdown",
   "metadata": {},
   "source": []
  },
  {
   "cell_type": "code",
   "execution_count": 21,
   "metadata": {},
   "outputs": [
    {
     "name": "stdout",
     "output_type": "stream",
     "text": [
      "Enter n value3\n",
      "n is odd number\n"
     ]
    }
   ],
   "source": [
    "# nested if syntax:-----\n",
    "# if condition: true\n",
    "#     if condition:\n",
    "#         statement\n",
    "n=int(input(\"Enter n value\"))\n",
    "if n>0:\n",
    "    if n%2==0:\n",
    "        print(\"n is even number\")\n",
    "    else:\n",
    "        print(\"n is odd number\")\n",
    "else:\n",
    "    print(\"your entered negative number\")"
   ]
  },
  {
   "cell_type": "code",
   "execution_count": null,
   "metadata": {},
   "outputs": [],
   "source": [
    "# syntax of elif\n",
    "# if condition:\n",
    "#     statements\n",
    "# elif condition:\n",
    "#     statements\n",
    "# else:\n",
    "#     statements\n",
    "#1. Write a python program to print week days?\n",
    "# input: 1\n",
    "# output: sunday\n",
    "n=int(input(\"Enter n value\"))\n",
    "if n>=1 and n<=7:\n",
    "    if n==1:\n",
    "        print(\"Sun\")\n",
    "    elif n==2:\n",
    "        print(\"mon\")\n",
    "    elif n==3:\n",
    "        print(\"tue\")\n",
    "else:\n",
    "    print(\"your entered invalid choice\")"
   ]
  },
  {
   "cell_type": "code",
   "execution_count": 1,
   "metadata": {},
   "outputs": [
    {
     "name": "stdout",
     "output_type": "stream",
     "text": [
      "1\n",
      "2\n",
      "3\n",
      "4\n",
      "5\n"
     ]
    }
   ],
   "source": [
    "# for syntax:\n",
    "# for variable_name in range(lowerbound,upperbound):\n",
    "#lowerboud->inclusive; upperbound->exclusive\n",
    "#     statements\n",
    "#1.To print 1 to 5 natural numbers?\n",
    "#input: n=5\n",
    "#output:   1\n",
    "#          2\n",
    "#          3\n",
    "#          4\n",
    "#          5\n",
    "for i in range(1,6):\n",
    "    print(i)\n",
    "\n"
   ]
  },
  {
   "cell_type": "code",
   "execution_count": 4,
   "metadata": {},
   "outputs": [
    {
     "name": "stdout",
     "output_type": "stream",
     "text": [
      "1 2 3 4 5 "
     ]
    }
   ],
   "source": [
    "for i in range(1,6):\n",
    "    print(i,end=\" \")"
   ]
  },
  {
   "cell_type": "code",
   "execution_count": 5,
   "metadata": {},
   "outputs": [
    {
     "name": "stdout",
     "output_type": "stream",
     "text": [
      "0\n",
      "1\n",
      "2\n",
      "3\n",
      "4\n",
      "5\n"
     ]
    }
   ],
   "source": [
    "for i in range(6):\n",
    "    print(i)"
   ]
  },
  {
   "cell_type": "code",
   "execution_count": 12,
   "metadata": {},
   "outputs": [
    {
     "name": "stdout",
     "output_type": "stream",
     "text": [
      "2 4 6 8 "
     ]
    }
   ],
   "source": [
    "# syntax: \n",
    "# for variable_name in range(start,stop,step):\n",
    "#     statements\n",
    "for i in range(2,10,2):\n",
    "    print(i,end=\" \")\n"
   ]
  },
  {
   "cell_type": "code",
   "execution_count": 13,
   "metadata": {},
   "outputs": [
    {
     "name": "stdout",
     "output_type": "stream",
     "text": [
      "Enter n value7\n",
      "1 2 3 4 5 6 7 "
     ]
    }
   ],
   "source": [
    "#2.Write a python program to print 1 to n natural numbers in ascending order?\n",
    "n=int(input(\"Enter n value\"))\n",
    "for i in range(1,n+1):\n",
    "    print(i,end=\" \")"
   ]
  },
  {
   "cell_type": "code",
   "execution_count": 16,
   "metadata": {},
   "outputs": [
    {
     "name": "stdout",
     "output_type": "stream",
     "text": [
      "Enter n value5\n",
      "5 3 1 "
     ]
    }
   ],
   "source": [
    "#3.write a python program to print 1 to n natural numbers n descending order?\n",
    "n=int(input(\"Enter n value\"))\n",
    "for i in range(n,0,-2):\n",
    "    print(i,end=\" \")"
   ]
  },
  {
   "cell_type": "code",
   "execution_count": null,
   "metadata": {},
   "outputs": [],
   "source": [
    "Tasks:\n",
    "#1. To print sum of 1 to n natural numbers?\n",
    "#2.To print factorial of a given number?\n",
    "#3.To print factors of a given number?\n",
    "#4.To print count the even numbers and odd number of given range 1 to n?\n",
    "#5. TO check wheather it is given number is prime or not?\n",
    "#6. To print prime numbers in between 1 to n?\n",
    "#7.To print prime numbers in betwenn n to m?\n",
    "#8.To check wheather it is given number perfect number or not?\n",
    "#9.To print 1 to n perfect number?\n",
    "#10.To print average of prime numbers in between 20 to 55 both are inclusive?\n",
    "#11. To generate the numbers in between 100 to 1000 \n",
    "#    which is divisible by 5 and not factor of 100?\n",
    "#12. TO find the factors average of a given number n?"
   ]
  },
  {
   "cell_type": "code",
   "execution_count": 20,
   "metadata": {},
   "outputs": [
    {
     "name": "stdout",
     "output_type": "stream",
     "text": [
      "Enter n value345\n",
      "Count is  3\n"
     ]
    }
   ],
   "source": [
    "# while condition:\n",
    "#     statements\n",
    "#     updation\n",
    "#1.To count number of digits of a given number?\n",
    "#input: n=345\n",
    "#output: count is 3\n",
    "n=int(input(\"Enter n value\"))\n",
    "c=0\n",
    "while n!=0:\n",
    "    c=c+1\n",
    "    n=n//10\n",
    "print(\"Count is \",c)\n",
    "\n",
    "\n"
   ]
  },
  {
   "cell_type": "code",
   "execution_count": null,
   "metadata": {},
   "outputs": [],
   "source": [
    "#tasks:---\n",
    "#1. To print only even digits of a given number?\n",
    "# input: n=567894\n",
    "# output: 4 8 6\n",
    "#2. To print reverse of agiven number?\n",
    "#3. To check wheather it is given nnumber is palindrome or not?\n",
    "#4. To check wheather it is given number is special number or not?\n",
    "# input: n=59\n",
    "#   product => 45(5*9)\n",
    "#   sum     => 14(5+9)\n",
    "# res=>product+sum=>59\n"
   ]
  }
 ],
 "metadata": {
  "kernelspec": {
   "display_name": "Python 3",
   "language": "python",
   "name": "python3"
  },
  "language_info": {
   "codemirror_mode": {
    "name": "ipython",
    "version": 3
   },
   "file_extension": ".py",
   "mimetype": "text/x-python",
   "name": "python",
   "nbconvert_exporter": "python",
   "pygments_lexer": "ipython3",
   "version": "3.7.3"
  }
 },
 "nbformat": 4,
 "nbformat_minor": 2
}
