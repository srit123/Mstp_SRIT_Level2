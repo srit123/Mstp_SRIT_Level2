{
 "cells": [
  {
   "cell_type": "markdown",
   "metadata": {},
   "source": [
    "## Object Oriented in Python\n",
    "- If you want to learn the oops in python first you have to understand three\n",
    "   terminologies i.e 1.Class, 2. Object , 3.Reference Varible\n",
    "- class: Class is a blue print of objcet,class is nothing but action plan\n",
    "- Object : Object is a Physical entity which can developed through the action plan\n",
    "- Reference Varible: It is a one varible, it is used to perform any operation on object we required  \n",
    "   Refernce varible."
   ]
  },
  {
   "cell_type": "code",
   "execution_count": 10,
   "metadata": {},
   "outputs": [
    {
     "name": "stdout",
     "output_type": "stream",
     "text": [
      "mastan\n",
      "100\n",
      "My name is : mastan\n",
      "My rollno is : 100\n",
      "vali\n",
      "101\n",
      "My name is : vali\n",
      "My rollno is : 101\n",
      "This is doc string......\n"
     ]
    }
   ],
   "source": [
    "class Student:  #This is class\n",
    "    '''This is doc string......'''\n",
    "    def __init__(self,rollno,name):# This is Constructor and Here 'self' keyword is like this in java\n",
    "        self.rollno = rollno\n",
    "        self.name = name\n",
    "    def info(self):#This is User defined method\n",
    "        print(\"My name is :\",self.name)\n",
    "        print(\"My rollno is :\",self.rollno)\n",
    "s = Student(100,\"mastan\")#Object Creation\n",
    "print(s.name)\n",
    "print(s.rollno)\n",
    "s.info()\n",
    "\n",
    "s2 = Student(101,\"vali\")#One more Object creation\n",
    "print(s2.name)\n",
    "print(s2.rollno)\n",
    "s2.info()\n",
    "\n",
    "print(Student.__doc__)"
   ]
  },
  {
   "cell_type": "code",
   "execution_count": 12,
   "metadata": {},
   "outputs": [],
   "source": [
    "#Self Varible:\n",
    "# ...................\n",
    "# Self is an implicit varible which is always provided by PVM\n",
    "# Self is always pointing to current object\n",
    "# For every constructor and instance method the first agument should be 'self'\n",
    "# With in the class self can be used to declare instance varibles and to access instance varibles\n",
    "\n",
    "\n",
    "#Constructor\n",
    "#..............\n",
    "# The Name Should be always : __init__()\n",
    "# Whenevere we are creating a object constructor will be auto matically excuted\n",
    "# we are not required to call explicitly\n",
    "# The Main Objcetive of Constructor is to declare and initialize instance varibles\n",
    "# For every objcet constructor will be excuted only once\n",
    "# Constructor will take atleast one argument(i.e self)\n",
    "# If your not writing any constructor python will provide default constructor.\n",
    "\n",
    "\n"
   ]
  },
  {
   "cell_type": "code",
   "execution_count": 14,
   "metadata": {},
   "outputs": [
    {
     "name": "stdout",
     "output_type": "stream",
     "text": [
      "Constructor Excution....\n",
      "Constructor Excution....\n",
      "Constructor Excution....\n"
     ]
    }
   ],
   "source": [
    "class Test:\n",
    "    def __init__(self):\n",
    "        print(\"Constructor Excution....\")\n",
    "t = Test()\n",
    "t = Test()\n",
    "t = Test()\n",
    "        "
   ]
  },
  {
   "cell_type": "code",
   "execution_count": 15,
   "metadata": {},
   "outputs": [
    {
     "ename": "TypeError",
     "evalue": "__init__() missing 1 required positional argument: 'x'",
     "output_type": "error",
     "traceback": [
      "\u001b[1;31m---------------------------------------------------------------------------\u001b[0m",
      "\u001b[1;31mTypeError\u001b[0m                                 Traceback (most recent call last)",
      "\u001b[1;32m<ipython-input-15-89b702ab664e>\u001b[0m in \u001b[0;36m<module>\u001b[1;34m\u001b[0m\n\u001b[0;32m      5\u001b[0m     \u001b[1;32mdef\u001b[0m \u001b[0m__init__\u001b[0m\u001b[1;33m(\u001b[0m\u001b[0mself\u001b[0m\u001b[1;33m,\u001b[0m\u001b[0mx\u001b[0m\u001b[1;33m)\u001b[0m\u001b[1;33m:\u001b[0m\u001b[1;33m\u001b[0m\u001b[1;33m\u001b[0m\u001b[0m\n\u001b[0;32m      6\u001b[0m         \u001b[0mprint\u001b[0m\u001b[1;33m(\u001b[0m\u001b[1;34m\"one-arg\"\u001b[0m\u001b[1;33m)\u001b[0m\u001b[1;33m\u001b[0m\u001b[1;33m\u001b[0m\u001b[0m\n\u001b[1;32m----> 7\u001b[1;33m \u001b[0mt\u001b[0m \u001b[1;33m=\u001b[0m \u001b[0mTest\u001b[0m\u001b[1;33m(\u001b[0m\u001b[1;33m)\u001b[0m\u001b[1;33m\u001b[0m\u001b[1;33m\u001b[0m\u001b[0m\n\u001b[0m",
      "\u001b[1;31mTypeError\u001b[0m: __init__() missing 1 required positional argument: 'x'"
     ]
    }
   ],
   "source": [
    "#Here There is no Overeloaded and Overriding concept in Python\n",
    "#Overloaded:Same Constructors names with different parameters\n",
    "# With in the python class we can create so many constructors but python will take only last one\n",
    "\n",
    "class Test:\n",
    "    def __init__(self):\n",
    "        print(\"no-arg\")\n",
    "        \n",
    "    def __init__(self,x):\n",
    "        print(\"one-arg\")\n",
    "t = Test()\n"
   ]
  },
  {
   "cell_type": "code",
   "execution_count": 18,
   "metadata": {},
   "outputs": [
    {
     "name": "stdout",
     "output_type": "stream",
     "text": [
      "Constructor Excution....\n",
      "method excution...\n",
      "Hello Myself :  mastan\n",
      "my roll no is :  100\n",
      "method excution...\n",
      "Hello Myself :  mastan\n",
      "my roll no is :  100\n",
      "method excution...\n",
      "Hello Myself :  mastan\n",
      "my roll no is :  100\n"
     ]
    }
   ],
   "source": [
    "class Student:\n",
    "    def __init__(self,name,rollno):\n",
    "        print('Constructor Excution....')\n",
    "        self.name = name\n",
    "        self.rollno = rollno\n",
    "    \n",
    "    def display(self):\n",
    "        print(\"method excution...\")\n",
    "        print(\"Hello Myself : \",self.name)\n",
    "        print(\"my roll no is : \",self.rollno)\n",
    "s = Student('mastan',100)\n",
    "s.display()\n",
    "s.display()\n",
    "s.display()"
   ]
  },
  {
   "cell_type": "markdown",
   "metadata": {},
   "source": [
    "### Method\n",
    "- The name can be any thing\n",
    "- Method will be excuted if we call\n",
    "- per object method can be called many number of times\n",
    "- Business Logic\n",
    "\n",
    "\n",
    "### Constructor\n",
    "- name should --init--()\n",
    "- will be excuted automtically if we are creating a object\n",
    "- Per Object only once\n",
    "- To declare and initialize instance varibles\n"
   ]
  },
  {
   "cell_type": "markdown",
   "metadata": {},
   "source": [
    "##### Methods and Varibles Inside the python class\n",
    "- Inside the Pyhton class 3 types of varibles are allowed:\n",
    "            - 1.Instance Varibles/Object level varibles\n",
    "                - Ex:Studentname and Rollno\n",
    "                - with value of a variable that is varient from objcet to object\n",
    "                - Instance varibles should be declared inside the constructor by using self.  \n",
    "            - 2.Static Varibles/Class level varibles\n",
    "                - Ex:Student College name same for all\n",
    "            - 3.Local VAribles/Method Varibles\n",
    "                - The varible which is declared inside the constructor or inside the method is known \n",
    "                   as Local varibles\n",
    "                   \n",
    "- Inside the python class 3 types of methods are allowed:\n",
    "            - 1.Instance Methods/Object related methods\n",
    "                 - In which method we are able to access the Instance varibles through the self \n",
    "                    that is instance methods\n",
    "                    \n",
    "            - 2.class Methods\n",
    "            - 3.Static methods"
   ]
  },
  {
   "cell_type": "code",
   "execution_count": 24,
   "metadata": {},
   "outputs": [
    {
     "name": "stdout",
     "output_type": "stream",
     "text": [
      "Constructor Excution....\n",
      "method excution...\n",
      "Hello Myself :  mastan\n",
      "my roll no is :  100\n",
      "College Name :  Lenora College Of Engineering\n",
      "Average of x,y is :  25.0\n",
      "Average of x,y is :  15.0\n"
     ]
    }
   ],
   "source": [
    "class Student:\n",
    "    cname = \"Lenora College Of Engineering\"\n",
    "    def __init__(self,name,rollno):\n",
    "        print('Constructor Excution....')\n",
    "        self.name = name\n",
    "        self.rollno = rollno\n",
    "    \n",
    "    #Instance method\n",
    "    def display(self):\n",
    "        print(\"method excution...\")\n",
    "        print(\"Hello Myself : \",self.name)\n",
    "        print(\"my roll no is : \",self.rollno)\n",
    "        \n",
    "    #Class method here cls is mandatory\n",
    "    @classmethod\n",
    "    def getCollegeName(cls):\n",
    "        print('College Name : ',cls.cname)\n",
    "    \n",
    "    #Static method\n",
    "    @staticmethod\n",
    "    def findAvg(x,y):\n",
    "        print('Average of x,y is : ',(x+y)/2)\n",
    "        \n",
    "        \n",
    "s = Student('mastan',100)\n",
    "s.display()\n",
    "Student.getCollegeName()\n",
    "s.findAvg(20,30)\n",
    "Student.findAvg(10,20)"
   ]
  },
  {
   "cell_type": "code",
   "execution_count": 30,
   "metadata": {},
   "outputs": [
    {
     "name": "stdout",
     "output_type": "stream",
     "text": [
      "{'name': 'Mastan', 'rollno': 101, 'marks': 60, 'a': 24}\n",
      "{'name': 'Mastan', 'rollno': 101, 'm': 40}\n"
     ]
    }
   ],
   "source": [
    "# 1.Instance Varibles\n",
    "# If the value of a varible is varied from object to object such type of varibles \n",
    "# for every object a seperate copy will be created\n",
    "\n",
    "# Where we have to declare instance variables there are multiple ways:\n",
    "# 1.Inside Constructor by using self\n",
    "# 2.Inside Instance method by using self \n",
    "# 3.From out side of the class by using object reference\n",
    "\n",
    "# How to access Instance varibles\n",
    "#      with in the class by using self\n",
    "#      from out side of the class by using object refrence\n",
    "\n",
    "\n",
    "# How to delete Instance Varibles\n",
    "#        Inside the class: del self.variblename\n",
    "#        Out side class : Object refrence.variblename\n",
    "        \n",
    "class Student:\n",
    "    def __init__(self,name,rollno):\n",
    "        self.name = name\n",
    "        self.rollno = rollno\n",
    "    def info(self):\n",
    "        self.marks = 60\n",
    "s1 = Student('Mastan',101)\n",
    "s1.info()\n",
    "s1.a = 24\n",
    "print(s1.__dict__)#To Display the instance varibles\n",
    "\n",
    "s2 = Student('Mastan',101)\n",
    "s2.m = 40\n",
    "print(s2.__dict__)#To Display the instance varibles\n"
   ]
  },
  {
   "cell_type": "code",
   "execution_count": 3,
   "metadata": {},
   "outputs": [
    {
     "name": "stdout",
     "output_type": "stream",
     "text": [
      "{'a': 10}\n"
     ]
    }
   ],
   "source": [
    "class Test:\n",
    "    def __init__(self):\n",
    "        self.a = 10\n",
    "        self.b = 20\n",
    "        self.c = 30\n",
    "    def delete(self):\n",
    "        del self.b\n",
    "        del self.c\n",
    "        \n",
    "t1 = Test()\n",
    "t1.delete()\n",
    "print(t1.__dict__)"
   ]
  },
  {
   "cell_type": "code",
   "execution_count": 4,
   "metadata": {},
   "outputs": [
    {
     "name": "stdout",
     "output_type": "stream",
     "text": [
      "888 999\n",
      "10 20\n"
     ]
    }
   ],
   "source": [
    "class Test:\n",
    "     def __init__(self):\n",
    "        self.a = 10\n",
    "        self.b = 20\n",
    "t1 = Test()\n",
    "t2 = Test()\n",
    "t1.a = 888\n",
    "t1.b = 999\n",
    "print(t1.a,t1.b)\n",
    "print(t2.a,t2.b)\n",
    "    "
   ]
  },
  {
   "cell_type": "markdown",
   "metadata": {},
   "source": [
    "#### Static Varibles\n",
    "* The value of variable nor varied from object to object such type of varible     are called as a Static varibles\n",
    "* EX: here we are having 1000 Student Object here every student object is having a separate name and sepearte rollno so these type varibles we declared as a instance varibles. \n",
    "* suppose if we take the college name it is same for all student objects so such type varibles we have declare as static varible.\n",
    "##### Instance varible vs static varible:\n",
    "* Instance:For every object a seperate copy\n",
    "* static:For all objects a single copy maintained at class level\n"
   ]
  },
  {
   "cell_type": "code",
   "execution_count": 1,
   "metadata": {},
   "outputs": [
    {
     "name": "stdout",
     "output_type": "stream",
     "text": [
      "mastan 101 SRIT\n",
      "vali 102 SRIT\n"
     ]
    }
   ],
   "source": [
    "class Student:\n",
    "    cname = 'SRIT'#Static Varible\n",
    "    \n",
    "    def __init__(self,name,rollno):\n",
    "        self.name = name\n",
    "        self.rollno = rollno\n",
    "s1 = Student('mastan',101)\n",
    "s2 = Student('vali',102)\n",
    "print(s1.name,s1.rollno,Student.cname)\n",
    "print(s2.name,s2.rollno,Student.cname)\n",
    "\n",
    "        "
   ]
  },
  {
   "cell_type": "markdown",
   "metadata": {},
   "source": [
    "##### What are  various places are there to declare static varibles?(video 5)\n",
    "* within the class directly but from outside of any method.\n",
    "* Inside constructor by using class name\n",
    "* Inside Instance method by using class name \n",
    "* Inside classmethod by using cls varible or classname\n",
    "* Inside static method by using classname.\n",
    "* From outside of class by using classname\n"
   ]
  }
 ],
 "metadata": {
  "kernelspec": {
   "display_name": "Python 3",
   "language": "python",
   "name": "python3"
  },
  "language_info": {
   "codemirror_mode": {
    "name": "ipython",
    "version": 3
   },
   "file_extension": ".py",
   "mimetype": "text/x-python",
   "name": "python",
   "nbconvert_exporter": "python",
   "pygments_lexer": "ipython3",
   "version": "3.7.3"
  }
 },
 "nbformat": 4,
 "nbformat_minor": 2
}
