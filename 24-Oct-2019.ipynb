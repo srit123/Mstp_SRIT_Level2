{
 "cells": [
  {
   "cell_type": "markdown",
   "metadata": {},
   "source": [
    "#### Day Objectives\n",
    "### Date : 24-10-2019\n",
    "* File Handling \n",
    "* Problem set on File Handling\n",
    "* Hackererth Practice Test"
   ]
  },
  {
   "cell_type": "code",
   "execution_count": 4,
   "metadata": {},
   "outputs": [
    {
     "name": "stdout",
     "output_type": "stream",
     "text": [
      "Line1 \n",
      "Line2\n",
      "Line3 \n",
      "Line4\n"
     ]
    }
   ],
   "source": [
    "# File\n",
    "#If you want access the data from existing file, here we can 'r' mode\n",
    "def readData(filepath):\n",
    "    with open(filepath,'r') as f:\n",
    "        data = f.read()\n",
    "        print(data)\n",
    "fp = 'DataFiles\\sample.txt'\n",
    "readData(fp)"
   ]
  },
  {
   "cell_type": "code",
   "execution_count": 9,
   "metadata": {},
   "outputs": [],
   "source": [
    "#create function to write the data into the existing file\n",
    "def writingData(filepath):\n",
    "    with open(filepath,'a') as f:\n",
    "        f.write(\"Hello APSSDC\")\n",
    "fp = 'DataFiles\\sample.txt'\n",
    "writingData(fp)\n",
    "\n"
   ]
  },
  {
   "cell_type": "code",
   "execution_count": 18,
   "metadata": {},
   "outputs": [],
   "source": [
    "#Create a function to add data into a new text file\n",
    "def createaFile():\n",
    "    with open('DataFiles\\\\newfile.txt','w') as f:\n",
    "        f.write(\"Hello APSSDC\")\n",
    "\n",
    "createaFile()"
   ]
  },
  {
   "cell_type": "code",
   "execution_count": 20,
   "metadata": {},
   "outputs": [
    {
     "name": "stdout",
     "output_type": "stream",
     "text": [
      "HelloHello\n"
     ]
    }
   ],
   "source": [
    "#String Repition\n",
    "#Mobilenumber Format\n",
    "#Digits reverse\n",
    "#Print 3 digit sum\n",
    "s = 'Hello'\n",
    "n = int(input())\n",
    "print(s*n)"
   ]
  },
  {
   "cell_type": "code",
   "execution_count": 24,
   "metadata": {},
   "outputs": [
    {
     "name": "stdout",
     "output_type": "stream",
     "text": [
      "3\n",
      "07895462130\n",
      "919875641230\n",
      "9195969878\n",
      "+91-(789)-546-2130\n",
      "+91-(987)-564-1230\n",
      "+91-(919)-596-9878\n",
      "['7895462130', '9875641230', '9195969878']\n"
     ]
    }
   ],
   "source": [
    "#Mobilenumber Format\n",
    "# Input\n",
    "# 3                       OutPut\n",
    "# 07895462130          +91-(789)-546-2130\n",
    "# 919875641230         +91-(987)-564-1230\n",
    "# 9195969878           +91-(919)-596-9878\n",
    "t = int(input())\n",
    "l = []\n",
    "for i in range(t):\n",
    "    n = input()\n",
    "    if len(n) >= 10:\n",
    "        dif = len(n)-10\n",
    "        d = n[dif:]\n",
    "        l.append(d)\n",
    "for i in l:\n",
    "    print('+91-('+i[0:3]+')-'+i[3:6]+'-'+i[6:])\n",
    "print(l)\n",
    "        \n",
    "    \n",
    "\n"
   ]
  },
  {
   "cell_type": "code",
   "execution_count": 25,
   "metadata": {},
   "outputs": [
    {
     "name": "stdout",
     "output_type": "stream",
     "text": [
      "3\n",
      "63010677870\n",
      "+91-(301)-067-7870\n",
      "08639048564\n",
      "+91-(863)-904-8564\n",
      "1234567890\n",
      "+91-(123)-456-7890\n",
      "[]\n"
     ]
    }
   ],
   "source": [
    "t = int(input())\n",
    "for i in range(t):\n",
    "    n = input()\n",
    "    if len(n) >= 10:\n",
    "        dif = len(n)-10\n",
    "        d = n[dif:]\n",
    "        print('+91-('+d[0:3]+')-'+d[3:6]+'-'+d[6:])\n",
    "    "
   ]
  },
  {
   "cell_type": "code",
   "execution_count": 51,
   "metadata": {},
   "outputs": [
    {
     "data": {
      "text/plain": [
       "[20, 40, 30, 60, 70, 80]"
      ]
     },
     "execution_count": 51,
     "metadata": {},
     "output_type": "execute_result"
    }
   ],
   "source": [
    "l = ['20','40','30','60','70','80']\n",
    "#  [20,40,30,60,70,80]\n",
    "l1 = []\n",
    "for i in l:\n",
    "    l1.append(int(i))\n",
    "l1\n",
    "        \n"
   ]
  },
  {
   "cell_type": "code",
   "execution_count": 54,
   "metadata": {},
   "outputs": [
    {
     "name": "stdout",
     "output_type": "stream",
     "text": [
      "[60, 40, 20]\n"
     ]
    }
   ],
   "source": [
    "l = [[20,40,60],[30,40,70]]\n",
    "l[0]\n",
    "print(l[0][::-1])\n"
   ]
  },
  {
   "cell_type": "code",
   "execution_count": null,
   "metadata": {},
   "outputs": [],
   "source": []
  }
 ],
 "metadata": {
  "kernelspec": {
   "display_name": "Python 3",
   "language": "python",
   "name": "python3"
  },
  "language_info": {
   "codemirror_mode": {
    "name": "ipython",
    "version": 3
   },
   "file_extension": ".py",
   "mimetype": "text/x-python",
   "name": "python",
   "nbconvert_exporter": "python",
   "pygments_lexer": "ipython3",
   "version": "3.7.3"
  }
 },
 "nbformat": 4,
 "nbformat_minor": 2
}
