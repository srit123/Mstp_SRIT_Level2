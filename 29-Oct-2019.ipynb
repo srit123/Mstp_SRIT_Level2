{
 "cells": [
  {
   "cell_type": "markdown",
   "metadata": {},
   "source": [
    "### Day Objectives\n",
    "### Date: 29-10-2019\n",
    "* Data Encryption and Decryption\n",
    "* Numpy "
   ]
  },
  {
   "cell_type": "code",
   "execution_count": 5,
   "metadata": {},
   "outputs": [
    {
     "name": "stdout",
     "output_type": "stream",
     "text": [
      "97\n",
      "122\n",
      "65\n",
      "90\n"
     ]
    }
   ],
   "source": [
    "#Encryption\n",
    "print(ord('a'))\n",
    "print(ord('z'))\n",
    "print(ord('A'))\n",
    "print(ord('Z'))"
   ]
  },
  {
   "cell_type": "code",
   "execution_count": 7,
   "metadata": {},
   "outputs": [
    {
     "data": {
      "text/plain": [
       "'z'"
      ]
     },
     "execution_count": 7,
     "metadata": {},
     "output_type": "execute_result"
    }
   ],
   "source": [
    "chr(97)\n",
    "chr(122)"
   ]
  },
  {
   "cell_type": "code",
   "execution_count": 8,
   "metadata": {},
   "outputs": [
    {
     "name": "stdout",
     "output_type": "stream",
     "text": [
      "a ---> 97\n",
      "b ---> 98\n",
      "c ---> 99\n",
      "d ---> 100\n",
      "e ---> 101\n",
      "f ---> 102\n",
      "g ---> 103\n",
      "h ---> 104\n",
      "i ---> 105\n",
      "j ---> 106\n",
      "k ---> 107\n",
      "l ---> 108\n",
      "m ---> 109\n",
      "n ---> 110\n",
      "o ---> 111\n",
      "p ---> 112\n",
      "q ---> 113\n",
      "r ---> 114\n",
      "s ---> 115\n",
      "t ---> 116\n",
      "u ---> 117\n",
      "v ---> 118\n",
      "w ---> 119\n",
      "x ---> 120\n",
      "y ---> 121\n",
      "z ---> 122\n"
     ]
    }
   ],
   "source": [
    "#Print all lower case alphabets in below format\n",
    "# a ---> 97\n",
    "# .\n",
    "# .\n",
    "# .\n",
    "# z ---> 122\n",
    "for i in range(97,123):\n",
    "    print(chr(i),'--->',i)\n"
   ]
  },
  {
   "cell_type": "code",
   "execution_count": 10,
   "metadata": {},
   "outputs": [
    {
     "name": "stdout",
     "output_type": "stream",
     "text": [
      "A ---> 65\n",
      "B ---> 66\n",
      "C ---> 67\n",
      "D ---> 68\n",
      "E ---> 69\n",
      "F ---> 70\n",
      "G ---> 71\n",
      "H ---> 72\n",
      "I ---> 73\n",
      "J ---> 74\n",
      "K ---> 75\n",
      "L ---> 76\n",
      "M ---> 77\n",
      "N ---> 78\n",
      "O ---> 79\n",
      "P ---> 80\n",
      "Q ---> 81\n",
      "R ---> 82\n",
      "S ---> 83\n",
      "T ---> 84\n",
      "U ---> 85\n",
      "V ---> 86\n",
      "W ---> 87\n",
      "X ---> 88\n",
      "Y ---> 89\n",
      "Z ---> 90\n"
     ]
    }
   ],
   "source": [
    "for i in range(65,91):\n",
    "    print(chr(i),'--->',i)"
   ]
  },
  {
   "cell_type": "code",
   "execution_count": 32,
   "metadata": {},
   "outputs": [
    {
     "name": "stdout",
     "output_type": "stream",
     "text": [
      "Enter message apssdc\n",
      "gvyyji"
     ]
    }
   ],
   "source": [
    "# a - 1\n",
    "# b - 2\n",
    "# c - 3\n",
    "# msg = hi\n",
    "# b_pos = 8+6 = 14\n",
    "# c_pos = 9+6 = 15\n",
    "# no\n",
    "msg = input(\"Enter message \")\n",
    "alphabets = 'abcdefghijklmnopqrstuvwxyz'\n",
    "k = 6\n",
    "for char in msg:\n",
    "    pos = alphabets.find(char)\n",
    "    new_pos = pos+k\n",
    "    if new_pos > 25:\n",
    "        print(alphabets[new_pos-25])\n",
    "    else:\n",
    "        print(alphabets[new_pos],end = \"\")\n",
    "            \n",
    "\n"
   ]
  },
  {
   "cell_type": "code",
   "execution_count": 35,
   "metadata": {},
   "outputs": [
    {
     "name": "stdout",
     "output_type": "stream",
     "text": [
      "Enter message apssdc\n",
      "gvyyji"
     ]
    }
   ],
   "source": [
    "msg = input(\"Enter message \")\n",
    "alphabets = 'abcdefghijklmnopqrstuvwxyz'\n",
    "alphabets = alphabets[::-1]\n",
    "k = 6\n",
    "for char in msg:\n",
    "    pos = alphabets.find(char)\n",
    "    new_pos = pos-k\n",
    "    if new_pos > 25:\n",
    "        print(alphabets[new_pos-25])\n",
    "    else:\n",
    "        print(alphabets[new_pos],end = \"\")"
   ]
  },
  {
   "cell_type": "code",
   "execution_count": 53,
   "metadata": {},
   "outputs": [
    {
     "name": "stdout",
     "output_type": "stream",
     "text": [
      "Enter a Message Z\n",
      " G\n"
     ]
    }
   ],
   "source": [
    "# hi = \n",
    "# h - 104+6 = 110 - n\n",
    "# i - 105+6 = 111 - o\n",
    "msg = input('Enter a Message ')\n",
    "k = 6\n",
    "s = \" \"\n",
    "for i in msg:\n",
    "    if (ord(i)>=97 and ord(i)<=122):\n",
    "        new=(ord(i)+k)\n",
    "        if new>=122:\n",
    "            new=97+(new-122)\n",
    "            s+=chr(new)\n",
    "        else:\n",
    "            s+=chr(new)   \n",
    "    elif ord(i)>=65 and ord(i)<=90:\n",
    "        new1=(ord(i)+k)\n",
    "        if new1>=90:\n",
    "            new1=65+(new1-90)\n",
    "            s+=chr(new1)\n",
    "        else:\n",
    "            s+=chr(new1)\n",
    "print(s)\n",
    "                \n",
    "        \n",
    "    "
   ]
  },
  {
   "cell_type": "code",
   "execution_count": 55,
   "metadata": {},
   "outputs": [],
   "source": [
    "#Marks text file Encyption\n",
    "def generateKeyfile():\n",
    "    with open('DataFiles\\key.txt','w') as f:\n",
    "        for i in range(10):\n",
    "            if i < 6:\n",
    "                f.write(str(i)+\" \"+str(i+4)+\"\\n\")\n",
    "            else:\n",
    "                f.write(str(i)+\" \"+str(i-6)+\"\\n\")\n",
    "generateKeyfile()\n",
    "                "
   ]
  },
  {
   "cell_type": "code",
   "execution_count": 66,
   "metadata": {},
   "outputs": [
    {
     "data": {
      "text/plain": [
       "{'0': '4',\n",
       " '1': '5',\n",
       " '2': '6',\n",
       " '3': '7',\n",
       " '4': '8',\n",
       " '5': '9',\n",
       " '6': '0',\n",
       " '7': '1',\n",
       " '8': '2',\n",
       " '9': '3'}"
      ]
     },
     "execution_count": 66,
     "metadata": {},
     "output_type": "execute_result"
    }
   ],
   "source": [
    "def read_key(keyfilepath):\n",
    "    d = {}\n",
    "    with open(keyfilepath,'r') as f:\n",
    "        data = f.readlines()\n",
    "        for line in data:\n",
    "            l = line.split()\n",
    "            #print(l[0],\"-->\",l[1])\n",
    "            d[l[0]] = l[1]\n",
    "        return d\n",
    "read_key('DataFiles\\key.txt')"
   ]
  },
  {
   "cell_type": "code",
   "execution_count": 131,
   "metadata": {},
   "outputs": [
    {
     "name": "stdout",
     "output_type": "stream",
     "text": [
      "11\n",
      "27\n",
      "60\n",
      "59\n",
      "39\n"
     ]
    }
   ],
   "source": [
    "def read_marks(mfilepath,kfilepath):\n",
    "    k = read_key(kfilepath)\n",
    "    with open(mfilepath,'r') as f:\n",
    "        marks = f.readlines()\n",
    "        li = []\n",
    "        for m in marks:\n",
    "            mm = m.split()\n",
    "            l = mm[0]\n",
    "            m1 = l[0]\n",
    "            m2 = l[1]\n",
    "            s = \"\"\n",
    "            for item in k.items():\n",
    "                for i in item[0]:\n",
    "                    if m1 == i:\n",
    "                        #print(item[1])\n",
    "                        s+=item[1]\n",
    "            for item1 in k.items():\n",
    "                for j in item1[0]:\n",
    "                    if m2 == j:\n",
    "                        #print(item1[1])\n",
    "                        s+=item1[1]\n",
    "            print(s)\n",
    "            with open('DataFiles\\enc.txt','a') as g:\n",
    "                g.write(s+\"\\n\")\n",
    "            \n",
    "            \n",
    "                \n",
    "            \n",
    "                \n",
    "                        \n",
    "read_marks('DataFiles\\marks.txt','DataFiles\\key.txt')\n",
    "# with open('DataFiles\\enc.txt','a') as g:\n",
    "#     g.write(str(a))"
   ]
  },
  {
   "cell_type": "code",
   "execution_count": 136,
   "metadata": {},
   "outputs": [
    {
     "data": {
      "text/plain": [
       "37"
      ]
     },
     "execution_count": 136,
     "metadata": {},
     "output_type": "execute_result"
    }
   ],
   "source": [
    "#If you want to access the ascii values of characters or numbers in python there \n",
    "#    is a predefined method called 'ord()'\n",
    "ord('a')\n",
    "ord('1')\n",
    "ord(' ')\n",
    "ord('%')"
   ]
  },
  {
   "cell_type": "code",
   "execution_count": 137,
   "metadata": {},
   "outputs": [
    {
     "name": "stdout",
     "output_type": "stream",
     "text": [
      "97\n",
      "122\n",
      "65\n",
      "90\n"
     ]
    }
   ],
   "source": [
    "print(ord('a'))\n",
    "print(ord('z'))\n",
    "print(ord('A'))\n",
    "print(ord('Z'))"
   ]
  },
  {
   "cell_type": "code",
   "execution_count": 139,
   "metadata": {},
   "outputs": [
    {
     "data": {
      "text/plain": [
       "'z'"
      ]
     },
     "execution_count": 139,
     "metadata": {},
     "output_type": "execute_result"
    }
   ],
   "source": [
    "chr(97)\n",
    "chr(122)"
   ]
  },
  {
   "cell_type": "code",
   "execution_count": 140,
   "metadata": {},
   "outputs": [
    {
     "name": "stdout",
     "output_type": "stream",
     "text": [
      "a ---> 97\n",
      "b ---> 98\n",
      "c ---> 99\n",
      "d ---> 100\n",
      "e ---> 101\n",
      "f ---> 102\n",
      "g ---> 103\n",
      "h ---> 104\n",
      "i ---> 105\n",
      "j ---> 106\n",
      "k ---> 107\n",
      "l ---> 108\n",
      "m ---> 109\n",
      "n ---> 110\n",
      "o ---> 111\n",
      "p ---> 112\n",
      "q ---> 113\n",
      "r ---> 114\n",
      "s ---> 115\n",
      "t ---> 116\n",
      "u ---> 117\n",
      "v ---> 118\n",
      "w ---> 119\n",
      "x ---> 120\n",
      "y ---> 121\n",
      "z ---> 122\n"
     ]
    }
   ],
   "source": [
    "#Print all lower case alphabets and their ascii values in below format\n",
    "# a ---> 97\n",
    "# .\n",
    "# .\n",
    "# .\n",
    "# .\n",
    "# z ---> 122\n",
    "for i in range(97,123):\n",
    "    print(chr(i),\"--->\",i)"
   ]
  },
  {
   "cell_type": "code",
   "execution_count": 141,
   "metadata": {},
   "outputs": [
    {
     "name": "stdout",
     "output_type": "stream",
     "text": [
      "A ---> 65\n",
      "B ---> 66\n",
      "C ---> 67\n",
      "D ---> 68\n",
      "E ---> 69\n",
      "F ---> 70\n",
      "G ---> 71\n",
      "H ---> 72\n",
      "I ---> 73\n",
      "J ---> 74\n",
      "K ---> 75\n",
      "L ---> 76\n",
      "M ---> 77\n",
      "N ---> 78\n",
      "O ---> 79\n",
      "P ---> 80\n",
      "Q ---> 81\n",
      "R ---> 82\n",
      "S ---> 83\n",
      "T ---> 84\n",
      "U ---> 85\n",
      "V ---> 86\n",
      "W ---> 87\n",
      "X ---> 88\n",
      "Y ---> 89\n",
      "Z ---> 90\n"
     ]
    }
   ],
   "source": [
    "for i in range(65,91):\n",
    "    print(chr(i),\"--->\",i)"
   ]
  },
  {
   "cell_type": "code",
   "execution_count": 155,
   "metadata": {},
   "outputs": [
    {
     "name": "stdout",
     "output_type": "stream",
     "text": [
      "Enter a message zx\n",
      "ge"
     ]
    }
   ],
   "source": [
    "# hi\n",
    "# h -> 7+6 = 13\n",
    "# i -> 8+6 = 14\n",
    "# no\n",
    "msg = input('Enter a message ')\n",
    "alpha = 'abcdefghijklmnopqrstuvwxyz'\n",
    "k = 6\n",
    "for char in msg:\n",
    "    pos = alpha.find(char)\n",
    "    new_pos = pos+k\n",
    "    if new_pos > 25:\n",
    "        new_pos = new_pos-25\n",
    "    print(alpha[new_pos],end=\"\")\n",
    "    "
   ]
  },
  {
   "cell_type": "code",
   "execution_count": 161,
   "metadata": {},
   "outputs": [
    {
     "name": "stdout",
     "output_type": "stream",
     "text": [
      "Enter a message hi\n",
      "no"
     ]
    }
   ],
   "source": [
    "msg = input('Enter a message ')\n",
    "alpha = 'abcdefghijklmnopqrstuvwxyz'\n",
    "alpha = alpha[::-1]\n",
    "k = 6\n",
    "for char in msg:\n",
    "    pos = alpha.find(char)\n",
    "    new_pos = pos-k\n",
    "    if new_pos > 25:\n",
    "        new_pos = new_pos-25\n",
    "    print(alpha[new_pos],end=\"\")"
   ]
  },
  {
   "cell_type": "code",
   "execution_count": 182,
   "metadata": {},
   "outputs": [
    {
     "name": "stdout",
     "output_type": "stream",
     "text": [
      "u\n",
      "a\n"
     ]
    }
   ],
   "source": [
    "# # a -> 97+6\n",
    "# chr(103)\n",
    "# #hi \n",
    "# ord('h')# h- 104+6 = 110 == > n\n",
    "# chr(110)\n",
    "# ord('i')#i - 105+6 = 111 == > 0\n",
    "# chr(111)\n",
    "# no\n",
    "msg = input()\n",
    "k = 6\n",
    "for char in msg:\n",
    "    if ord(char) > 97 and ord(char) <= 122:\n",
    "        pos = ord(char)+6\n",
    "        if pos > 122:\n",
    "            new_pos = 96+pos-122\n",
    "            print(chr(new_pos))\n",
    "        else:\n",
    "            print(chr(pos))\n",
    "         \n",
    "        \n"
   ]
  },
  {
   "cell_type": "code",
   "execution_count": 5,
   "metadata": {},
   "outputs": [],
   "source": [
    "#key.txt\n",
    "def generateKeyfile(filepath):\n",
    "    with open(filepath,'w') as f:\n",
    "        for i in range(10):\n",
    "            if i<6:\n",
    "                f.write(str(i)+\" \"+str(i+4)+\"\\n\")\n",
    "            else:\n",
    "                f.write(str(i)+\" \"+str(i-6)+\"\\n\")\n",
    "generateKeyfile('DataFiles\\key.txt')"
   ]
  },
  {
   "cell_type": "code",
   "execution_count": 6,
   "metadata": {},
   "outputs": [
    {
     "data": {
      "text/plain": [
       "{'0': '4',\n",
       " '1': '5',\n",
       " '2': '6',\n",
       " '3': '7',\n",
       " '4': '8',\n",
       " '5': '9',\n",
       " '6': '0',\n",
       " '7': '1',\n",
       " '8': '2',\n",
       " '9': '3'}"
      ]
     },
     "execution_count": 6,
     "metadata": {},
     "output_type": "execute_result"
    }
   ],
   "source": [
    "#creating key Dictionary\n",
    "def read_key(kfilepath):\n",
    "    d = {}\n",
    "    with open(kfilepath,'r') as f:\n",
    "        data = f.readlines()\n",
    "        for line in data:\n",
    "            l = line.split()\n",
    "            d[l[0]] = l[1]\n",
    "        return d\n",
    "read_key('DataFiles\\key.txt')        "
   ]
  },
  {
   "cell_type": "code",
   "execution_count": 7,
   "metadata": {},
   "outputs": [
    {
     "name": "stdout",
     "output_type": "stream",
     "text": [
      " 11\n",
      " 27\n",
      " 60\n",
      " 59\n",
      " 39\n"
     ]
    }
   ],
   "source": [
    "#Encyption\n",
    "def encryptdata(kfilepath,mfilepath):\n",
    "    k = read_key(kfilepath)\n",
    "    with open(mfilepath,'r') as f:\n",
    "        data = f.readlines()\n",
    "        for line in data:\n",
    "            m1 = line[0]\n",
    "            m2 = line[1]\n",
    "            s = ' '\n",
    "            for item in k.items():\n",
    "                for i in item[0]:\n",
    "                    if i == m1:\n",
    "                        s+=item[1]\n",
    "            for item1 in k.items():\n",
    "                for j in item1[0]:\n",
    "                    if j == m2:\n",
    "                        s+=item1[1]\n",
    "            print(s)\n",
    "            with open('DataFiles\\enc.txt','a') as g:\n",
    "                g.write(s+\"\\n\")\n",
    "encryptdata('DataFiles\\key.txt','DataFiles\\marks.txt')"
   ]
  },
  {
   "cell_type": "code",
   "execution_count": 9,
   "metadata": {},
   "outputs": [
    {
     "ename": "IndexError",
     "evalue": "list index out of range",
     "output_type": "error",
     "traceback": [
      "\u001b[1;31m---------------------------------------------------------------------------\u001b[0m",
      "\u001b[1;31mIndexError\u001b[0m                                Traceback (most recent call last)",
      "\u001b[1;32m<ipython-input-9-d2643a8181b2>\u001b[0m in \u001b[0;36m<module>\u001b[1;34m\u001b[0m\n\u001b[0;32m     18\u001b[0m             \u001b[1;32mwith\u001b[0m \u001b[0mopen\u001b[0m\u001b[1;33m(\u001b[0m\u001b[1;34m'DataFiles\\dec.txt'\u001b[0m\u001b[1;33m,\u001b[0m\u001b[1;34m'a'\u001b[0m\u001b[1;33m)\u001b[0m \u001b[1;32mas\u001b[0m \u001b[0mg\u001b[0m\u001b[1;33m:\u001b[0m\u001b[1;33m\u001b[0m\u001b[1;33m\u001b[0m\u001b[0m\n\u001b[0;32m     19\u001b[0m                 \u001b[0mg\u001b[0m\u001b[1;33m.\u001b[0m\u001b[0mwrite\u001b[0m\u001b[1;33m(\u001b[0m\u001b[0ms\u001b[0m\u001b[1;33m+\u001b[0m\u001b[1;34m\"\\n\"\u001b[0m\u001b[1;33m)\u001b[0m\u001b[1;33m\u001b[0m\u001b[1;33m\u001b[0m\u001b[0m\n\u001b[1;32m---> 20\u001b[1;33m \u001b[0mORIGINAL\u001b[0m\u001b[1;33m(\u001b[0m\u001b[1;34m'DataFiles\\key.txt'\u001b[0m\u001b[1;33m,\u001b[0m\u001b[1;34m'DataFiles\\enc.txt'\u001b[0m\u001b[1;33m)\u001b[0m\u001b[1;33m\u001b[0m\u001b[1;33m\u001b[0m\u001b[0m\n\u001b[0m",
      "\u001b[1;32m<ipython-input-9-d2643a8181b2>\u001b[0m in \u001b[0;36mORIGINAL\u001b[1;34m(kfilepath, mfilepath)\u001b[0m\n\u001b[0;32m      1\u001b[0m \u001b[1;32mdef\u001b[0m \u001b[0mORIGINAL\u001b[0m\u001b[1;33m(\u001b[0m\u001b[0mkfilepath\u001b[0m\u001b[1;33m,\u001b[0m\u001b[0mmfilepath\u001b[0m\u001b[1;33m)\u001b[0m\u001b[1;33m:\u001b[0m\u001b[1;33m\u001b[0m\u001b[1;33m\u001b[0m\u001b[0m\n\u001b[1;32m----> 2\u001b[1;33m     \u001b[0mk\u001b[0m \u001b[1;33m=\u001b[0m \u001b[0mread_key\u001b[0m\u001b[1;33m(\u001b[0m\u001b[0mmfilepath\u001b[0m\u001b[1;33m)\u001b[0m\u001b[1;33m\u001b[0m\u001b[1;33m\u001b[0m\u001b[0m\n\u001b[0m\u001b[0;32m      3\u001b[0m     \u001b[1;32mwith\u001b[0m \u001b[0mopen\u001b[0m\u001b[1;33m(\u001b[0m\u001b[0mmfilepath\u001b[0m\u001b[1;33m,\u001b[0m\u001b[1;34m'r'\u001b[0m\u001b[1;33m)\u001b[0m \u001b[1;32mas\u001b[0m \u001b[0mf\u001b[0m\u001b[1;33m:\u001b[0m\u001b[1;33m\u001b[0m\u001b[1;33m\u001b[0m\u001b[0m\n\u001b[0;32m      4\u001b[0m         \u001b[0mdata\u001b[0m \u001b[1;33m=\u001b[0m \u001b[0mf\u001b[0m\u001b[1;33m.\u001b[0m\u001b[0mreadlines\u001b[0m\u001b[1;33m(\u001b[0m\u001b[1;33m)\u001b[0m\u001b[1;33m\u001b[0m\u001b[1;33m\u001b[0m\u001b[0m\n\u001b[0;32m      5\u001b[0m         \u001b[1;32mfor\u001b[0m \u001b[0mline\u001b[0m \u001b[1;32min\u001b[0m \u001b[0mdata\u001b[0m\u001b[1;33m:\u001b[0m\u001b[1;33m\u001b[0m\u001b[1;33m\u001b[0m\u001b[0m\n",
      "\u001b[1;32m<ipython-input-6-23fc8e4142fe>\u001b[0m in \u001b[0;36mread_key\u001b[1;34m(kfilepath)\u001b[0m\n\u001b[0;32m      6\u001b[0m         \u001b[1;32mfor\u001b[0m \u001b[0mline\u001b[0m \u001b[1;32min\u001b[0m \u001b[0mdata\u001b[0m\u001b[1;33m:\u001b[0m\u001b[1;33m\u001b[0m\u001b[1;33m\u001b[0m\u001b[0m\n\u001b[0;32m      7\u001b[0m             \u001b[0ml\u001b[0m \u001b[1;33m=\u001b[0m \u001b[0mline\u001b[0m\u001b[1;33m.\u001b[0m\u001b[0msplit\u001b[0m\u001b[1;33m(\u001b[0m\u001b[1;33m)\u001b[0m\u001b[1;33m\u001b[0m\u001b[1;33m\u001b[0m\u001b[0m\n\u001b[1;32m----> 8\u001b[1;33m             \u001b[0md\u001b[0m\u001b[1;33m[\u001b[0m\u001b[0ml\u001b[0m\u001b[1;33m[\u001b[0m\u001b[1;36m0\u001b[0m\u001b[1;33m]\u001b[0m\u001b[1;33m]\u001b[0m \u001b[1;33m=\u001b[0m \u001b[0ml\u001b[0m\u001b[1;33m[\u001b[0m\u001b[1;36m1\u001b[0m\u001b[1;33m]\u001b[0m\u001b[1;33m\u001b[0m\u001b[1;33m\u001b[0m\u001b[0m\n\u001b[0m\u001b[0;32m      9\u001b[0m         \u001b[1;32mreturn\u001b[0m \u001b[0md\u001b[0m\u001b[1;33m\u001b[0m\u001b[1;33m\u001b[0m\u001b[0m\n\u001b[0;32m     10\u001b[0m \u001b[0mread_key\u001b[0m\u001b[1;33m(\u001b[0m\u001b[1;34m'DataFiles\\key.txt'\u001b[0m\u001b[1;33m)\u001b[0m\u001b[1;33m\u001b[0m\u001b[1;33m\u001b[0m\u001b[0m\n",
      "\u001b[1;31mIndexError\u001b[0m: list index out of range"
     ]
    }
   ],
   "source": [
    "def ORIGINAL(kfilepath,mfilepath):\n",
    "    k = read_key(mfilepath)\n",
    "    with open(mfilepath,'r') as f:\n",
    "        data = f.readlines()\n",
    "        for line in data:\n",
    "            m1 = line[0]\n",
    "            m2 = line[1]\n",
    "            s = ' '\n",
    "            for item in k.items():\n",
    "                for i in item[1]:\n",
    "                    if i == m1:\n",
    "                        s+=item[0]\n",
    "            for item1 in k.items():\n",
    "                for j in item1[1]:\n",
    "                    if j == m2:\n",
    "                        s+=item1[0]\n",
    "            print(s)\n",
    "            with open('DataFiles\\dec.txt','a') as g:\n",
    "                g.write(s+\"\\n\")\n",
    "ORIGINAL('DataFiles\\key.txt','DataFiles\\enc.txt')"
   ]
  },
  {
   "cell_type": "code",
   "execution_count": null,
   "metadata": {},
   "outputs": [],
   "source": []
  }
 ],
 "metadata": {
  "kernelspec": {
   "display_name": "Python 3",
   "language": "python",
   "name": "python3"
  },
  "language_info": {
   "codemirror_mode": {
    "name": "ipython",
    "version": 3
   },
   "file_extension": ".py",
   "mimetype": "text/x-python",
   "name": "python",
   "nbconvert_exporter": "python",
   "pygments_lexer": "ipython3",
   "version": "3.7.3"
  }
 },
 "nbformat": 4,
 "nbformat_minor": 2
}
