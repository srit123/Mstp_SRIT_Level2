{
 "cells": [
  {
   "cell_type": "markdown",
   "metadata": {},
   "source": [
    "## Day Objectives\n",
    "\n",
    "### Date : 27-Sept-2019\n",
    "\n",
    "### Strings and String Slicing\n",
    "\n",
    "### Functions in python"
   ]
  },
  {
   "cell_type": "code",
   "execution_count": 12,
   "metadata": {},
   "outputs": [
    {
     "data": {
      "text/plain": [
       "'nohtyp'"
      ]
     },
     "execution_count": 12,
     "metadata": {},
     "output_type": "execute_result"
    }
   ],
   "source": [
    "# Strings\n",
    "# String is collection of charcters \n",
    "# String declaration in Python\n",
    "        # '' or \"\"\n",
    "# Strings like an Array\n",
    "#If you want access the String elements here we are having two ways to accesss\n",
    "        # 1.By using Positive Indexing\n",
    "        # 2.By using Negative Indexing\n",
    "s = \"python\"\n",
    "s[0]#It gives first letter of the string\n",
    "s[1]#It gives second value of String\n",
    "s[-1]# It gives last value of the string\n",
    "s[-2]# It give second value from last\n",
    "#Strinng also having a lowerbound and upperbound\n",
    "s[1:3]#Here lowerbound is inclusive and Upperbound is exclusive \n",
    "#If you want print the laternative elements of the string then we are having\n",
    "#step Paramenter\n",
    "s[::2]\n",
    "s[::-1]#It gives reverse string"
   ]
  },
  {
   "cell_type": "code",
   "execution_count": 13,
   "metadata": {},
   "outputs": [
    {
     "data": {
      "text/plain": [
       "6"
      ]
     },
     "execution_count": 13,
     "metadata": {},
     "output_type": "execute_result"
    }
   ],
   "source": [
    "s = \"Python\"\n",
    "#If you want to get the length of the string there \n",
    "#is predefined function called len()\n",
    "len(s)#It gives length of the string\n"
   ]
  },
  {
   "cell_type": "code",
   "execution_count": 15,
   "metadata": {},
   "outputs": [
    {
     "data": {
      "text/plain": [
       "18"
      ]
     },
     "execution_count": 15,
     "metadata": {},
     "output_type": "execute_result"
    }
   ],
   "source": [
    "s1 = \"Python Programming\"\n",
    "len(s1)"
   ]
  },
  {
   "cell_type": "code",
   "execution_count": 17,
   "metadata": {},
   "outputs": [
    {
     "name": "stdout",
     "output_type": "stream",
     "text": [
      "Enter the String abc\n",
      "abc  not palindrome\n"
     ]
    }
   ],
   "source": [
    "#Check the given string is palindrome or not\n",
    "s = input(\"Enter the String \")\n",
    "rs = s[::-1]\n",
    "if s == rs:\n",
    "    print(s,\" is palindrome\")\n",
    "else:\n",
    "    print(s,\" not palindrome\")"
   ]
  },
  {
   "cell_type": "code",
   "execution_count": 18,
   "metadata": {},
   "outputs": [
    {
     "data": {
      "text/plain": [
       "['__add__',\n",
       " '__class__',\n",
       " '__contains__',\n",
       " '__delattr__',\n",
       " '__dir__',\n",
       " '__doc__',\n",
       " '__eq__',\n",
       " '__format__',\n",
       " '__ge__',\n",
       " '__getattribute__',\n",
       " '__getitem__',\n",
       " '__getnewargs__',\n",
       " '__gt__',\n",
       " '__hash__',\n",
       " '__init__',\n",
       " '__init_subclass__',\n",
       " '__iter__',\n",
       " '__le__',\n",
       " '__len__',\n",
       " '__lt__',\n",
       " '__mod__',\n",
       " '__mul__',\n",
       " '__ne__',\n",
       " '__new__',\n",
       " '__reduce__',\n",
       " '__reduce_ex__',\n",
       " '__repr__',\n",
       " '__rmod__',\n",
       " '__rmul__',\n",
       " '__setattr__',\n",
       " '__sizeof__',\n",
       " '__str__',\n",
       " '__subclasshook__',\n",
       " 'capitalize',\n",
       " 'casefold',\n",
       " 'center',\n",
       " 'count',\n",
       " 'encode',\n",
       " 'endswith',\n",
       " 'expandtabs',\n",
       " 'find',\n",
       " 'format',\n",
       " 'format_map',\n",
       " 'index',\n",
       " 'isalnum',\n",
       " 'isalpha',\n",
       " 'isascii',\n",
       " 'isdecimal',\n",
       " 'isdigit',\n",
       " 'isidentifier',\n",
       " 'islower',\n",
       " 'isnumeric',\n",
       " 'isprintable',\n",
       " 'isspace',\n",
       " 'istitle',\n",
       " 'isupper',\n",
       " 'join',\n",
       " 'ljust',\n",
       " 'lower',\n",
       " 'lstrip',\n",
       " 'maketrans',\n",
       " 'partition',\n",
       " 'replace',\n",
       " 'rfind',\n",
       " 'rindex',\n",
       " 'rjust',\n",
       " 'rpartition',\n",
       " 'rsplit',\n",
       " 'rstrip',\n",
       " 'split',\n",
       " 'splitlines',\n",
       " 'startswith',\n",
       " 'strip',\n",
       " 'swapcase',\n",
       " 'title',\n",
       " 'translate',\n",
       " 'upper',\n",
       " 'zfill']"
      ]
     },
     "execution_count": 18,
     "metadata": {},
     "output_type": "execute_result"
    }
   ],
   "source": [
    "dir(str)"
   ]
  },
  {
   "cell_type": "code",
   "execution_count": 32,
   "metadata": {},
   "outputs": [
    {
     "data": {
      "text/plain": [
       "2"
      ]
     },
     "execution_count": 32,
     "metadata": {},
     "output_type": "execute_result"
    }
   ],
   "source": [
    "s = \"Python Programming\"\n",
    "s.capitalize()#It changes only first letter to uppercase\n",
    "s.upper()#It will converts entaire sting into a Uppercase\n",
    "s.count('m')#It gives nuber of occurances of a string element\n",
    "s.count('P')"
   ]
  },
  {
   "cell_type": "code",
   "execution_count": 33,
   "metadata": {},
   "outputs": [
    {
     "data": {
      "text/plain": [
       "'apssdcapssdc'"
      ]
     },
     "execution_count": 33,
     "metadata": {},
     "output_type": "execute_result"
    }
   ],
   "source": [
    "s = \"apssdc\"\n",
    "s*2"
   ]
  },
  {
   "cell_type": "markdown",
   "metadata": {},
   "source": [
    "### Functions in Python"
   ]
  },
  {
   "cell_type": "code",
   "execution_count": 34,
   "metadata": {},
   "outputs": [],
   "source": [
    "#Function is block of code\n",
    "#Here we are having a two types of Functions\n",
    "        #1.Predefined Functions\n",
    "        #2.User Defined Functions\n",
    "# 2.User Defined Functions\n",
    "# 1.With out arguments and with out return value\n",
    "# 2.With out arguments and with return value\n",
    "# 3.with arguments and with out return value\n",
    "# 4.with arguments and with return value\n",
    "\n",
    "#Function declaration in python\n",
    "# def functionname():\n",
    "#     statements"
   ]
  },
  {
   "cell_type": "code",
   "execution_count": 35,
   "metadata": {},
   "outputs": [
    {
     "name": "stdout",
     "output_type": "stream",
     "text": [
      "30\n"
     ]
    }
   ],
   "source": [
    "# 1.With out arguments and with out return value\n",
    "#Addition of two numbers\n",
    "def add():#Function decleration\n",
    "    a = 10\n",
    "    b = 20\n",
    "    print(a+b)\n",
    "    \n",
    "add()#Function calling\n"
   ]
  },
  {
   "cell_type": "code",
   "execution_count": 36,
   "metadata": {},
   "outputs": [
    {
     "data": {
      "text/plain": [
       "30"
      ]
     },
     "execution_count": 36,
     "metadata": {},
     "output_type": "execute_result"
    }
   ],
   "source": [
    "#2.With out arguments and with return value\n",
    "def add():\n",
    "    a = 10\n",
    "    b = 20\n",
    "    return a+b\n",
    "add()"
   ]
  },
  {
   "cell_type": "code",
   "execution_count": 38,
   "metadata": {},
   "outputs": [
    {
     "name": "stdout",
     "output_type": "stream",
     "text": [
      "30\n"
     ]
    }
   ],
   "source": [
    "# 3.with arguments and with out return value\n",
    "def add(a,b):\n",
    "    print(a+b)\n",
    "a = 10\n",
    "b = 20\n",
    "add(a,b)"
   ]
  },
  {
   "cell_type": "code",
   "execution_count": 39,
   "metadata": {},
   "outputs": [
    {
     "data": {
      "text/plain": [
       "30"
      ]
     },
     "execution_count": 39,
     "metadata": {},
     "output_type": "execute_result"
    }
   ],
   "source": [
    "#4.With arguments and with return value\n",
    "def add(a,b):\n",
    "    return a+b\n",
    "a = 10\n",
    "b = 20\n",
    "add(a,b)\n"
   ]
  },
  {
   "cell_type": "code",
   "execution_count": 40,
   "metadata": {},
   "outputs": [],
   "source": [
    "#Tasks\n",
    "#1.Create a function to check the given \n",
    "#  string is plindrome or not\n",
    "#2.Create function to check given number is prime or not?\n",
    "#3.Create a function to generate all the prime numbers\n",
    "#   in betwen given range\n",
    "#4.create a function to generate factors of a given number\n",
    "#5.create a function to find the average of 1 to 100 numbers\n",
    "#6.create a function to calculate \n",
    "#   the average of given number factors\n",
    "\n",
    "#7.create a function to print the primenumbers \n",
    "#   in a given numbers factors\n",
    "\n",
    "#8.create function check the leap year\n",
    "\n",
    "# 9.Take a string “Problem Solving Using Python” \n",
    "#   Find the length of the string \n",
    "#   Change the string to lowercase \n",
    "#   Print the string in reverse order \n",
    "#   Print the string without spaces \n",
    "#   Find how many times “s” is repeated in a given string\n",
    "\n",
    "#10.create a function to generate all the leap in between\n",
    "#    2004 to 2030 both are inclusive"
   ]
  },
  {
   "cell_type": "code",
   "execution_count": 46,
   "metadata": {},
   "outputs": [
    {
     "data": {
      "text/plain": [
       "False"
      ]
     },
     "execution_count": 46,
     "metadata": {},
     "output_type": "execute_result"
    }
   ],
   "source": [
    "#3.Generate the prime numbers in between given range\n",
    "# lb = 1\n",
    "# ub = 10\n",
    "# 2,3,5,7\n",
    "def isPrime(n):\n",
    "    c = 0\n",
    "    for i in range(1,n+1):\n",
    "        if n%i == 0:\n",
    "            c+=1\n",
    "    if c == 2:\n",
    "        return True\n",
    "    else:\n",
    "        return False\n",
    "isPrime(4)"
   ]
  },
  {
   "cell_type": "code",
   "execution_count": 47,
   "metadata": {},
   "outputs": [
    {
     "name": "stdout",
     "output_type": "stream",
     "text": [
      "Enter lower bound 1\n",
      "Enter upper bound 10\n",
      "2 3 5 7 "
     ]
    }
   ],
   "source": [
    "def generatePrimenumbers(lb,ub):\n",
    "    for i in range(lb,ub):\n",
    "        if isPrime(i):\n",
    "            print(i,end = \" \")\n",
    "lb = int(input(\"Enter lower bound \"))\n",
    "ub = int(input(\"Enter upper bound \"))\n",
    "generatePrimenumbers(lb,ub)"
   ]
  },
  {
   "cell_type": "code",
   "execution_count": 7,
   "metadata": {},
   "outputs": [
    {
     "name": "stdout",
     "output_type": "stream",
     "text": [
      "10\n",
      "20\n",
      "30\n"
     ]
    }
   ],
   "source": [
    "#Addition\n",
    "# a,b\n",
    "# def functionname():\n",
    "#     logic implementatio\n",
    "\n",
    "def addition(a,b):\n",
    "    return a+b\n",
    "\n",
    "addition(value1,value2)"
   ]
  },
  {
   "cell_type": "code",
   "execution_count": 8,
   "metadata": {},
   "outputs": [
    {
     "name": "stdout",
     "output_type": "stream",
     "text": [
      "Even\n"
     ]
    }
   ],
   "source": [
    "n = 20\n",
    "if n%2 == 0:\n",
    "    print(\"Even\")\n",
    "else:\n",
    "    print(\"Odd\")"
   ]
  },
  {
   "cell_type": "code",
   "execution_count": 11,
   "metadata": {},
   "outputs": [
    {
     "data": {
      "text/plain": [
       "True"
      ]
     },
     "execution_count": 11,
     "metadata": {},
     "output_type": "execute_result"
    }
   ],
   "source": [
    "def checkingEvenOdd(n):\n",
    "    if n%2 == 0:\n",
    "        return True\n",
    "    else:\n",
    "        return False\n",
    "checkingEvenOdd(40)"
   ]
  },
  {
   "cell_type": "code",
   "execution_count": 13,
   "metadata": {},
   "outputs": [
    {
     "name": "stdout",
     "output_type": "stream",
     "text": [
      "10 12 14 16 18 20 22 24 26 28 30 32 34 36 38 40 42 44 46 48 "
     ]
    }
   ],
   "source": [
    "def generateEvenNumbers(lb,ub):\n",
    "    for i in range(lb,ub):\n",
    "        if i%2 == 0:\n",
    "            print(i,end = \" \")\n",
    "lb = 10\n",
    "ub = 50\n",
    "generateEvenNumbers(lb,ub)"
   ]
  },
  {
   "cell_type": "code",
   "execution_count": null,
   "metadata": {},
   "outputs": [],
   "source": []
  }
 ],
 "metadata": {
  "kernelspec": {
   "display_name": "Python 3",
   "language": "python",
   "name": "python3"
  },
  "language_info": {
   "codemirror_mode": {
    "name": "ipython",
    "version": 3
   },
   "file_extension": ".py",
   "mimetype": "text/x-python",
   "name": "python",
   "nbconvert_exporter": "python",
   "pygments_lexer": "ipython3",
   "version": "3.7.3"
  }
 },
 "nbformat": 4,
 "nbformat_minor": 2
}
