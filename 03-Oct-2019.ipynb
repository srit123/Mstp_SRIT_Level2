{
 "cells": [
  {
   "cell_type": "markdown",
   "metadata": {},
   "source": [
    "### Day Objectives\n",
    "### Date : 03-10-2019\n",
    "* Yesterday Tasks explanantion\n",
    "* Problem set on Dictionaries\n",
    "* Sets in python\n"
   ]
  },
  {
   "cell_type": "code",
   "execution_count": null,
   "metadata": {},
   "outputs": [],
   "source": [
    "# TAsks\n",
    "# 1.create a function to find the lowest frequency element of given list. if the list is having \n",
    "#     a more than one lowest frequencies then print the max element.\n",
    "#      l = [20,33,4,5,101,20,33,5,20,33,5,4,5,4]\n",
    "\n",
    "# 2.create a function to find the second highest frequency \n",
    "#     element in the given list.\n",
    "#     l = [22,1,3,44,22,3,44,44,22] output : 3\n",
    "\n",
    "# 3.create a function to find the third lowest element in the given list.\n",
    "#         l = [20,33,4,5,101,20,33,5,20,33,5,4,5,4]\n",
    "\n",
    "# 4.create a function to find the kth highest frequency element in the given list.\n",
    "#   if the k value is greater than length of the list then return -1 \n",
    "#   l = [2,3,4,2,4,5]\n",
    "        2 - > 2\n",
    "        3 - > 1\n",
    "        4 - > 2\n",
    "        5 - > 1\n",
    "        \n",
    "        k=3\n"
   ]
  }
 ],
 "metadata": {
  "kernelspec": {
   "display_name": "Python 3",
   "language": "python",
   "name": "python3"
  },
  "language_info": {
   "codemirror_mode": {
    "name": "ipython",
    "version": 3
   },
   "file_extension": ".py",
   "mimetype": "text/x-python",
   "name": "python",
   "nbconvert_exporter": "python",
   "pygments_lexer": "ipython3",
   "version": "3.7.3"
  }
 },
 "nbformat": 4,
 "nbformat_minor": 2
}
