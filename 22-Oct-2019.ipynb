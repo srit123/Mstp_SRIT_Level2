{
 "cells": [
  {
   "cell_type": "markdown",
   "metadata": {},
   "source": [
    "### Day Objectives\n",
    "### Date: 22-10-2019\n",
    "* Yester day Contact application revision\n",
    "* Regular Expressions in python\n",
    "* Tasks on Regular Expressions"
   ]
  },
  {
   "cell_type": "code",
   "execution_count": 2,
   "metadata": {},
   "outputs": [],
   "source": [
    "#Contact APP\n",
    "# d = {'name':[mobileno,emailid]}\n",
    "# 1.addContact()\n",
    "# 2.searchContact()\n",
    "# 3.deleteContact()\n",
    "# 4.UpdateContact()\n",
    "# 5.displayAllContacts()\n",
    "\n",
    "contacts = {}"
   ]
  },
  {
   "cell_type": "code",
   "execution_count": 9,
   "metadata": {},
   "outputs": [
    {
     "name": "stdout",
     "output_type": "stream",
     "text": [
      "Enter mobileno and Email id with space 123456789 m@gmail.com\n",
      "Enter name mastan\n",
      "Sorry Contact is already exist\n",
      "{'mastan': ['123456789', 'm@gmail.com'], 'vali': ['123456', 'mastan@gmail.com']}\n"
     ]
    }
   ],
   "source": [
    "def addContact():\n",
    "    details = input('Enter mobileno and Email id with space ').split()\n",
    "    name = input('Enter name ')\n",
    "    if name in contacts.keys():\n",
    "        print('Sorry Contact is already exist')\n",
    "    else:\n",
    "        contacts[name] = details\n",
    "        print(name,' contact added successfully....')\n",
    "addContact()"
   ]
  },
  {
   "cell_type": "code",
   "execution_count": 12,
   "metadata": {},
   "outputs": [
    {
     "name": "stdout",
     "output_type": "stream",
     "text": [
      "name     \t details\n",
      "mastan     \t ['123456789', 'm@gmail.com']\n",
      "vali     \t ['123456', 'mastan@gmail.com']\n"
     ]
    }
   ],
   "source": [
    "def displayContacts():\n",
    "    print('name',\"    \\t\",'details')\n",
    "    for item in contacts.items():\n",
    "        print(item[0],\"    \\t\",item[1])\n",
    "displayContacts()"
   ]
  },
  {
   "cell_type": "markdown",
   "metadata": {},
   "source": [
    "#### Regular Expressions"
   ]
  },
  {
   "cell_type": "code",
   "execution_count": 13,
   "metadata": {},
   "outputs": [],
   "source": [
    "#Def:If we want to represent a group of strings according to particular \n",
    "#   pattern then we should go for regular expression.\n",
    "# []-set of characters\n",
    "# [a-z]-characters of small alphabets a-z\n",
    "# [A-Z]-Characters of Capital alphabets A-Z\n",
    "# [0-9]-digits from 0-9\n",
    "# ^ - Starts with\n",
    "# $ - ends with\n",
    "# {min,max} - it defines range\n",
    "# Tasks\n",
    "# 1.Create a pttaern for three digit number\n",
    "# 2.create a pattern for your name in capital\n",
    "# 3.create a pattern for three digit number which is divisible 6\n",
    "# 4.create a pattern for SRIT college rollnumber(It sould work for \n",
    "#     all students rollnumbers of SRIT)\n",
    "# 5.create a pattern for indian mobile number\n",
    "# 6.create a pattern for any email id\n"
   ]
  },
  {
   "cell_type": "code",
   "execution_count": 18,
   "metadata": {},
   "outputs": [
    {
     "name": "stdout",
     "output_type": "stream",
     "text": [
      "start index of ab is :  0 \n",
      "  end index of ab is : 2\n",
      "start index of ab is :  3 \n",
      "  end index of ab is : 5\n",
      "start index of ab is :  5 \n",
      "  end index of ab is : 7\n"
     ]
    }
   ],
   "source": [
    "#If you want to access the pattern matching functions there is module \n",
    "# called 're'\n",
    "# 1.compile()\n",
    "# 2.finditer()\n",
    "#       - start() -- > It gives start index of the match\n",
    "#       - end() -- > It gives end+1 index of the match\n",
    "#       - group()-->It returns matched String\n",
    "\n",
    "\n",
    "import re \n",
    "#String 'abaababb'\n",
    "#'ab' \n",
    "pattern = re.compile('ab')\n",
    "matcher = pattern.finditer('abaababb')\n",
    "for match in matcher:\n",
    "    print(\"start index of ab is : \",match.start(),'\\n',\n",
    "          \" end index of ab is :\",match.end())\n",
    "\n",
    "\n",
    "\n",
    "\n"
   ]
  },
  {
   "cell_type": "code",
   "execution_count": 21,
   "metadata": {},
   "outputs": [
    {
     "name": "stdout",
     "output_type": "stream",
     "text": [
      "start:0,end:2,group:ab\n",
      "start:3,end:5,group:ab\n",
      "start:5,end:7,group:ab\n",
      "Number matches occured in given target string is :  3\n"
     ]
    }
   ],
   "source": [
    "#To find the number of matches occured in target String\n",
    "count = 0\n",
    "pattern = re.compile('ab')\n",
    "matcher = pattern.finditer('abaababb')\n",
    "for i in matcher:\n",
    "    count+=1\n",
    "    print(\"start:{},end:{},group:{}\".format(i.start(),i.end(),i.group()))\n",
    "print(\"Number matches occured in given target string is : \",count)"
   ]
  },
  {
   "cell_type": "code",
   "execution_count": null,
   "metadata": {},
   "outputs": [],
   "source": []
  }
 ],
 "metadata": {
  "kernelspec": {
   "display_name": "Python 3",
   "language": "python",
   "name": "python3"
  },
  "language_info": {
   "codemirror_mode": {
    "name": "ipython",
    "version": 3
   },
   "file_extension": ".py",
   "mimetype": "text/x-python",
   "name": "python",
   "nbconvert_exporter": "python",
   "pygments_lexer": "ipython3",
   "version": "3.7.3"
  }
 },
 "nbformat": 4,
 "nbformat_minor": 2
}
