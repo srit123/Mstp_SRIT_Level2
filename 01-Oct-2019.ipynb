{
 "cells": [
  {
   "cell_type": "markdown",
   "metadata": {},
   "source": [
    "### Day Objectives\n",
    "### Date:01-Oct-2019\n",
    "* Tuples\n",
    "* Dictionaries\n",
    "* Sets"
   ]
  },
  {
   "cell_type": "markdown",
   "metadata": {},
   "source": [
    "### Tuple"
   ]
  },
  {
   "cell_type": "code",
   "execution_count": 7,
   "metadata": {},
   "outputs": [
    {
     "data": {
      "text/plain": [
       "'Python'"
      ]
     },
     "execution_count": 7,
     "metadata": {},
     "output_type": "execute_result"
    }
   ],
   "source": [
    "#Tuple is collection of hetrogenious data. \n",
    "#and It is unchangable\n",
    "#If you want create the tuple we need to use these \n",
    "#paranthesis ()\n",
    "t = (1,5.5,True,\"Python\")\n",
    "#If you want to access the tuple items here we are two ways to access\n",
    "#  i.e 1.By using positive index\n",
    "#      2.By using negative index\n",
    "t[0]#It gives first element of the tuple\n",
    "t[2]#It gives third element of the tuple\n",
    "t[1:3]#Here lower bound is inclusive and upper bound is exclusive\n",
    "t[::-1]#To reverse the tuple\n",
    "t[::2]#To print the alternate elements\n",
    "t[-1]#It gives last element of the tuple"
   ]
  },
  {
   "cell_type": "code",
   "execution_count": 8,
   "metadata": {},
   "outputs": [
    {
     "data": {
      "text/plain": [
       "['__add__',\n",
       " '__class__',\n",
       " '__contains__',\n",
       " '__delattr__',\n",
       " '__dir__',\n",
       " '__doc__',\n",
       " '__eq__',\n",
       " '__format__',\n",
       " '__ge__',\n",
       " '__getattribute__',\n",
       " '__getitem__',\n",
       " '__getnewargs__',\n",
       " '__gt__',\n",
       " '__hash__',\n",
       " '__init__',\n",
       " '__init_subclass__',\n",
       " '__iter__',\n",
       " '__le__',\n",
       " '__len__',\n",
       " '__lt__',\n",
       " '__mul__',\n",
       " '__ne__',\n",
       " '__new__',\n",
       " '__reduce__',\n",
       " '__reduce_ex__',\n",
       " '__repr__',\n",
       " '__rmul__',\n",
       " '__setattr__',\n",
       " '__sizeof__',\n",
       " '__str__',\n",
       " '__subclasshook__',\n",
       " 'count',\n",
       " 'index']"
      ]
     },
     "execution_count": 8,
     "metadata": {},
     "output_type": "execute_result"
    }
   ],
   "source": [
    "dir(tuple)"
   ]
  },
  {
   "cell_type": "code",
   "execution_count": 29,
   "metadata": {},
   "outputs": [
    {
     "data": {
      "text/plain": [
       "9"
      ]
     },
     "execution_count": 29,
     "metadata": {},
     "output_type": "execute_result"
    }
   ],
   "source": [
    "t1 = (1,2,3,4,4,5,2,2,4)\n",
    "t1.count(4)#It number of occurances of tuple element\n",
    "t1.index(4)#It gives element index of the tuple\n",
    "len(t1)#It Gives length of the tuple"
   ]
  },
  {
   "cell_type": "markdown",
   "metadata": {},
   "source": [
    "### Dictionaries"
   ]
  },
  {
   "cell_type": "code",
   "execution_count": 24,
   "metadata": {},
   "outputs": [
    {
     "data": {
      "text/plain": [
       "1"
      ]
     },
     "execution_count": 24,
     "metadata": {},
     "output_type": "execute_result"
    }
   ],
   "source": [
    "#It is collection of hetrogenious data and changable.\n",
    "#If you want store the data in dictionaries we need to use keys\n",
    "#Dictionary will acces key value based data\n",
    "#Dictinaries syntac : d = {\"key1\":value1,\"key2\":value2.......}\n",
    "#Here keys are unique\n",
    "d = {2.5:1,\"k2\":55.44,\"k3\":True,\"k4\":\"APSSDC\"}\n",
    "d[\"k4\"]#Through the keys only we can access the elements from the dictionary\n",
    "d[2.5]#Key names only in string and integers and float values"
   ]
  },
  {
   "cell_type": "code",
   "execution_count": 26,
   "metadata": {},
   "outputs": [
    {
     "ename": "KeyError",
     "evalue": "False",
     "output_type": "error",
     "traceback": [
      "\u001b[1;31m---------------------------------------------------------------------------\u001b[0m",
      "\u001b[1;31mKeyError\u001b[0m                                  Traceback (most recent call last)",
      "\u001b[1;32m<ipython-input-26-91719a4a4738>\u001b[0m in \u001b[0;36m<module>\u001b[1;34m\u001b[0m\n\u001b[1;32m----> 1\u001b[1;33m \u001b[0md\u001b[0m\u001b[1;33m[\u001b[0m\u001b[1;32mFalse\u001b[0m\u001b[1;33m]\u001b[0m\u001b[1;33m\u001b[0m\u001b[1;33m\u001b[0m\u001b[0m\n\u001b[0m",
      "\u001b[1;31mKeyError\u001b[0m: False"
     ]
    }
   ],
   "source": [
    "d[False]"
   ]
  },
  {
   "cell_type": "code",
   "execution_count": 30,
   "metadata": {},
   "outputs": [
    {
     "data": {
      "text/plain": [
       "2"
      ]
     },
     "execution_count": 30,
     "metadata": {},
     "output_type": "execute_result"
    }
   ],
   "source": [
    "d = {}\n",
    "d[\"a\"] = 20\n",
    "d[\"b\"] = 30\n",
    "len(d)#It gives length of the dictionary"
   ]
  },
  {
   "cell_type": "code",
   "execution_count": 35,
   "metadata": {},
   "outputs": [
    {
     "data": {
      "text/plain": [
       "dict_keys(['a', 'b'])"
      ]
     },
     "execution_count": 35,
     "metadata": {},
     "output_type": "execute_result"
    }
   ],
   "source": [
    "d.keys()#If you want to access the only keys then there is a predefined method\n",
    "#Called keys()\n"
   ]
  },
  {
   "cell_type": "code",
   "execution_count": 36,
   "metadata": {},
   "outputs": [
    {
     "data": {
      "text/plain": [
       "dict_values([20, 30])"
      ]
     },
     "execution_count": 36,
     "metadata": {},
     "output_type": "execute_result"
    }
   ],
   "source": [
    "d.values()#We can access only dictionary values"
   ]
  },
  {
   "cell_type": "code",
   "execution_count": 37,
   "metadata": {},
   "outputs": [
    {
     "data": {
      "text/plain": [
       "dict_items([('a', 20), ('b', 30)])"
      ]
     },
     "execution_count": 37,
     "metadata": {},
     "output_type": "execute_result"
    }
   ],
   "source": [
    "d.items()"
   ]
  },
  {
   "cell_type": "code",
   "execution_count": 38,
   "metadata": {},
   "outputs": [
    {
     "data": {
      "text/plain": [
       "['__class__',\n",
       " '__contains__',\n",
       " '__delattr__',\n",
       " '__delitem__',\n",
       " '__dir__',\n",
       " '__doc__',\n",
       " '__eq__',\n",
       " '__format__',\n",
       " '__ge__',\n",
       " '__getattribute__',\n",
       " '__getitem__',\n",
       " '__gt__',\n",
       " '__hash__',\n",
       " '__init__',\n",
       " '__init_subclass__',\n",
       " '__iter__',\n",
       " '__le__',\n",
       " '__len__',\n",
       " '__lt__',\n",
       " '__ne__',\n",
       " '__new__',\n",
       " '__reduce__',\n",
       " '__reduce_ex__',\n",
       " '__repr__',\n",
       " '__setattr__',\n",
       " '__setitem__',\n",
       " '__sizeof__',\n",
       " '__str__',\n",
       " '__subclasshook__',\n",
       " 'clear',\n",
       " 'copy',\n",
       " 'fromkeys',\n",
       " 'get',\n",
       " 'items',\n",
       " 'keys',\n",
       " 'pop',\n",
       " 'popitem',\n",
       " 'setdefault',\n",
       " 'update',\n",
       " 'values']"
      ]
     },
     "execution_count": 38,
     "metadata": {},
     "output_type": "execute_result"
    }
   ],
   "source": [
    "dir(dict)"
   ]
  },
  {
   "cell_type": "code",
   "execution_count": 39,
   "metadata": {},
   "outputs": [
    {
     "data": {
      "text/plain": [
       "{'a': 20, 'b': 30}"
      ]
     },
     "execution_count": 39,
     "metadata": {},
     "output_type": "execute_result"
    }
   ],
   "source": [
    "d"
   ]
  },
  {
   "cell_type": "code",
   "execution_count": 40,
   "metadata": {},
   "outputs": [
    {
     "data": {
      "text/plain": [
       "{}"
      ]
     },
     "execution_count": 40,
     "metadata": {},
     "output_type": "execute_result"
    }
   ],
   "source": [
    "d.clear()#It clears the dictionary\n",
    "d"
   ]
  },
  {
   "cell_type": "code",
   "execution_count": 44,
   "metadata": {},
   "outputs": [
    {
     "data": {
      "text/plain": [
       "{'a': 40, 'b': 50, 'c': 30}"
      ]
     },
     "execution_count": 44,
     "metadata": {},
     "output_type": "execute_result"
    }
   ],
   "source": [
    "d1={'a':40,\"b\":50,\"c\":30}\n",
    "d2 = d1.copy()#To copy the dictionary to another dictionary\n",
    "d2"
   ]
  },
  {
   "cell_type": "code",
   "execution_count": 54,
   "metadata": {},
   "outputs": [
    {
     "data": {
      "text/plain": [
       "{'k1': (1, 2, 3), 'k2': (1, 2, 3), 'k3': (1, 2, 3)}"
      ]
     },
     "execution_count": 54,
     "metadata": {},
     "output_type": "execute_result"
    }
   ],
   "source": [
    "k = ('k1','k2','k3')\n",
    "v = (1,2,3)\n",
    "d2 = dict.fromkeys(k,v)\n",
    "d2"
   ]
  },
  {
   "cell_type": "code",
   "execution_count": 55,
   "metadata": {},
   "outputs": [
    {
     "data": {
      "text/plain": [
       "{'a': 40, 'b': 50, 'c': 30}"
      ]
     },
     "execution_count": 55,
     "metadata": {},
     "output_type": "execute_result"
    }
   ],
   "source": [
    "d1"
   ]
  },
  {
   "cell_type": "code",
   "execution_count": 56,
   "metadata": {},
   "outputs": [
    {
     "data": {
      "text/plain": [
       "40"
      ]
     },
     "execution_count": 56,
     "metadata": {},
     "output_type": "execute_result"
    }
   ],
   "source": [
    "d1.get(\"a\")#or d1[\"a\"]"
   ]
  },
  {
   "cell_type": "code",
   "execution_count": 57,
   "metadata": {},
   "outputs": [
    {
     "data": {
      "text/plain": [
       "{'a': 40, 'b': 50, 'c': 30}"
      ]
     },
     "execution_count": 57,
     "metadata": {},
     "output_type": "execute_result"
    }
   ],
   "source": [
    "d1"
   ]
  },
  {
   "cell_type": "code",
   "execution_count": 64,
   "metadata": {},
   "outputs": [
    {
     "data": {
      "text/plain": [
       "{'b': 50, 'c': 30}"
      ]
     },
     "execution_count": 64,
     "metadata": {},
     "output_type": "execute_result"
    }
   ],
   "source": [
    "d1.pop('a')#Through the keys we can pop the dictionary elements\n",
    "d1"
   ]
  },
  {
   "cell_type": "code",
   "execution_count": 60,
   "metadata": {},
   "outputs": [
    {
     "data": {
      "text/plain": [
       "{'b': 50, 'c': 30}"
      ]
     },
     "execution_count": 60,
     "metadata": {},
     "output_type": "execute_result"
    }
   ],
   "source": [
    "d1"
   ]
  },
  {
   "cell_type": "code",
   "execution_count": 65,
   "metadata": {},
   "outputs": [
    {
     "data": {
      "text/plain": [
       "('c', 30)"
      ]
     },
     "execution_count": 65,
     "metadata": {},
     "output_type": "execute_result"
    }
   ],
   "source": [
    "d1.popitem()#It will remove entire last item from dictionary"
   ]
  },
  {
   "cell_type": "code",
   "execution_count": 66,
   "metadata": {},
   "outputs": [
    {
     "data": {
      "text/plain": [
       "{'b': 50}"
      ]
     },
     "execution_count": 66,
     "metadata": {},
     "output_type": "execute_result"
    }
   ],
   "source": [
    "d1"
   ]
  },
  {
   "cell_type": "code",
   "execution_count": 84,
   "metadata": {},
   "outputs": [
    {
     "data": {
      "text/plain": [
       "{'b': 50}"
      ]
     },
     "execution_count": 84,
     "metadata": {},
     "output_type": "execute_result"
    }
   ],
   "source": [
    "d1.popitem()\n",
    "d1"
   ]
  },
  {
   "cell_type": "code",
   "execution_count": 95,
   "metadata": {},
   "outputs": [
    {
     "data": {
      "text/plain": [
       "7"
      ]
     },
     "execution_count": 95,
     "metadata": {},
     "output_type": "execute_result"
    }
   ],
   "source": [
    "d1.setdefault('d',7)#It will take two arguments i.e key and value\n",
    "#or d[\"keyname\"] = value"
   ]
  },
  {
   "cell_type": "code",
   "execution_count": 96,
   "metadata": {},
   "outputs": [
    {
     "data": {
      "text/plain": [
       "{'b': 50, 'a': None, 'c': '6', 'd': 7}"
      ]
     },
     "execution_count": 96,
     "metadata": {},
     "output_type": "execute_result"
    }
   ],
   "source": [
    "d1"
   ]
  },
  {
   "cell_type": "code",
   "execution_count": 104,
   "metadata": {},
   "outputs": [
    {
     "data": {
      "text/plain": [
       "{'b': 50, 'a': 20, 'c': '6', 'd': 7}"
      ]
     },
     "execution_count": 104,
     "metadata": {},
     "output_type": "execute_result"
    }
   ],
   "source": [
    "d1.update({'a':20})#If you want to update any existing value in dictionary\n",
    "d1"
   ]
  },
  {
   "cell_type": "code",
   "execution_count": 109,
   "metadata": {},
   "outputs": [
    {
     "name": "stdout",
     "output_type": "stream",
     "text": [
      "50\n",
      "20\n",
      "6\n",
      "7\n"
     ]
    }
   ],
   "source": [
    "for item in d1.values():\n",
    "    print(item)"
   ]
  },
  {
   "cell_type": "code",
   "execution_count": 110,
   "metadata": {},
   "outputs": [],
   "source": [
    "# Tasks:\n",
    "#1.create a dictionary to store the emloyee details\n",
    "#         Ex:name : mastan\n",
    "#             mobile: 483247473145\n",
    "#             email id: mastan@apssdc.in\n",
    "#             empid:123\n",
    "#             age  :\n",
    "#2.create a function to Create a dictionary to store \n",
    "#  the multiple employee details\n",
    "#  through the employeeid\n",
    "#             5 employee details\n",
    "#             Ex: emp = {123:[\"mastan\",36478246836,23,\"mastan@apssdc.in\"]}\n",
    "\n",
    "#3.l = [10,20,10,40,40,30,20,50,70] by using this list\n",
    "#    create a dictionary to store the number of occurances of a list elements\n",
    "#             Ex:d = {10:2,20:2,40:2,30:1}\n",
    "#         keys are : list values or elements\n",
    "#         values are : number of occurances of element\n",
    "#4.\"PythonProgramming\" by using this string create a dictionary with consist of\n",
    "#   character and number of occurances of each character\n",
    "#                 Ex:d = {'P':2,'y':1,'t':1........}\n",
    "#5.s = \"mastan narmada ranga mastan anusha maneesha basha irfan anusha ranga\"\n",
    "#                 Ex: d = {'mastan':2,\"narmada\":1......}\n",
    "\n",
    "#6.create a dictionary to store the numbers of squares in between 1 to 20 both \n",
    "#   are inclusive\n",
    "#                 Ex:d = {1:1,2,2:4,3:9,4:16...........}\n",
    "\n",
    "#7.l = [10,20,10,30,80,30,10,40,55,60] in this list create a function to \n",
    "#   find the highest frequency element"
   ]
  },
  {
   "cell_type": "code",
   "execution_count": 111,
   "metadata": {},
   "outputs": [
    {
     "data": {
      "text/plain": [
       "{1: [3, 4, 5.6, 7, 8]}"
      ]
     },
     "execution_count": 111,
     "metadata": {},
     "output_type": "execute_result"
    }
   ],
   "source": [
    "d = {1:[3,4,5.6,7,8]}\n",
    "d"
   ]
  },
  {
   "cell_type": "code",
   "execution_count": 120,
   "metadata": {},
   "outputs": [
    {
     "name": "stdout",
     "output_type": "stream",
     "text": [
      "Enter how many emp details you want to store 2\n",
      "Enter emp id 123\n",
      " Enter emp details with space mastan 78934954 23 mastan@gmail.com\n",
      "Enter emp id 124\n",
      " Enter emp details with space mmm 785676589759 24 mm@gmail.com\n"
     ]
    },
    {
     "data": {
      "text/plain": [
       "{123: ['mastan', '78934954', '23', 'mastan@gmail.com'],\n",
       " 124: ['mmm', '785676589759', '24', 'mm@gmail.com']}"
      ]
     },
     "execution_count": 120,
     "metadata": {},
     "output_type": "execute_result"
    }
   ],
   "source": [
    "#2.create a function to Create a dictionary to store \n",
    "#  the multiple employee details\n",
    "#  through the employeeid\n",
    "#             5 employee details\n",
    "#             Ex: emp = {123:[\"mastan\",36478246836,23,\"mastan@apssdc.in\"]}\n",
    "#n = Number of employees\n",
    "\n",
    "def empDetails(n):\n",
    "    d = {}\n",
    "    for i in range(1,n+1):\n",
    "        empid = int(input(\"Enter emp id \"))\n",
    "        s = input(\" Enter emp details with space \").split()\n",
    "        d[empid] = s\n",
    "    return d\n",
    "#         empid = int(input(\"Enter a Emp Id \"))\n",
    "#         d[empid] = \n",
    "n = int(input(\"Enter how many emp details you want to store \"))\n",
    "empDetails(n)\n",
    "    \n",
    "    "
   ]
  },
  {
   "cell_type": "code",
   "execution_count": 119,
   "metadata": {},
   "outputs": [
    {
     "name": "stdout",
     "output_type": "stream",
     "text": [
      "1 2 3 4 5 6 7 8 9\n",
      "['1', '2', '3', '4', '5', '6', '7', '8', '9']\n"
     ]
    }
   ],
   "source": [
    "s = input().split()\n",
    "print(s)"
   ]
  },
  {
   "cell_type": "code",
   "execution_count": 123,
   "metadata": {},
   "outputs": [
    {
     "data": {
      "text/plain": [
       "{10: 2, 20: 2, 40: 2, 30: 1, 50: 1, 70: 1}"
      ]
     },
     "execution_count": 123,
     "metadata": {},
     "output_type": "execute_result"
    }
   ],
   "source": [
    "#3.l = [10,20,10,40,40,30,20,50,70] by using this list\n",
    "#    create a dictionary to store the number of occurances of a list elements\n",
    "#             Ex:d = {10:2,20:2,40:2,30:1}\n",
    "#         keys are : list values or elements\n",
    "#         values are : number of occurances of element\n",
    "def listOccurance(l1):\n",
    "    d = {}\n",
    "    for i in l1:\n",
    "        if i not in d.keys():\n",
    "            d[i]=l.count(i)\n",
    "    return d\n",
    "l = [10,20,10,40,40,30,20,50,70]\n",
    "listOccurance(l)"
   ]
  },
  {
   "cell_type": "code",
   "execution_count": 5,
   "metadata": {},
   "outputs": [
    {
     "data": {
      "text/plain": [
       "{10: 3}"
      ]
     },
     "execution_count": 5,
     "metadata": {},
     "output_type": "execute_result"
    }
   ],
   "source": [
    "#7.l = [10,20,10,30,80,30,10,40,55,60] in this list create a function to \n",
    "#   find the highest frequency element\n",
    "def freq(n):\n",
    "    d={}\n",
    "    k=0\n",
    "    for i in n:\n",
    "        c=0\n",
    "        for j in n:\n",
    "            if i==j:\n",
    "                c=c+1\n",
    "            if(k<c):\n",
    "                k=c\n",
    "                d[i]=k\n",
    "        return d\n",
    "            \n",
    "l = [10,20,10,30,80,30,10,40,55,60]\n",
    "freq(l)"
   ]
  },
  {
   "cell_type": "code",
   "execution_count": 12,
   "metadata": {},
   "outputs": [
    {
     "data": {
      "text/plain": [
       "{'mastan': 2,\n",
       " 'narmada': 1,\n",
       " 'ranga': 2,\n",
       " 'anusha': 2,\n",
       " 'maneesha': 1,\n",
       " 'basha': 1,\n",
       " 'irfan': 1}"
      ]
     },
     "execution_count": 12,
     "metadata": {},
     "output_type": "execute_result"
    }
   ],
   "source": [
    "#s = \"mastan narmada ranga mastan anusha maneesha basha irfan anusha ranga\"\n",
    "#Ex: d = {'mastan':2,\"narmada\":1......}\n",
    "def wordOccurances(s):  \n",
    "    d = {}\n",
    "    sl = s.split(\" \")\n",
    "    for word in sl:\n",
    "        if word not in d.keys():\n",
    "            d[word]=sl.count(word)\n",
    "    return d\n",
    "\n",
    "s = \"mastan narmada ranga mastan anusha maneesha basha irfan anusha ranga\"\n",
    "wordOccurances(s)\n"
   ]
  },
  {
   "cell_type": "code",
   "execution_count": 18,
   "metadata": {},
   "outputs": [
    {
     "name": "stdout",
     "output_type": "stream",
     "text": [
      "{10: 3, 20: 1, 30: 2, 80: 1, 40: 1, 55: 1, 60: 1}\n",
      "Highest freqency element is :  10\n"
     ]
    },
    {
     "data": {
      "text/plain": [
       "([3, 1, 2, 1, 1, 1, 1], 3)"
      ]
     },
     "execution_count": 18,
     "metadata": {},
     "output_type": "execute_result"
    }
   ],
   "source": [
    "#7.l = [10,20,10,30,80,30,10,40,55,60] in this list create a function to \n",
    "#   find the highest frequency element\n",
    "def findingHighestFreq(li):\n",
    "    d = {}\n",
    "    for i in li:\n",
    "        if i not in d.keys():\n",
    "            d[i]=li.count(i)\n",
    "    valueslist=list(d.values())\n",
    "    highestfreqvalue = max(valueslist)\n",
    "    print(d)\n",
    "    for item in d.items():\n",
    "        if item[1] == highestfreqvalue:\n",
    "            print(\"Highest freqency element is : \",item[0])\n",
    "        \n",
    "\n",
    "l = [10,20,10,30,80,30,10,40,55,60]\n",
    "findingHighestFreq(l)"
   ]
  },
  {
   "cell_type": "code",
   "execution_count": null,
   "metadata": {},
   "outputs": [],
   "source": []
  },
  {
   "cell_type": "code",
   "execution_count": null,
   "metadata": {},
   "outputs": [],
   "source": []
  },
  {
   "cell_type": "code",
   "execution_count": null,
   "metadata": {},
   "outputs": [],
   "source": []
  }
 ],
 "metadata": {
  "kernelspec": {
   "display_name": "Python 3",
   "language": "python",
   "name": "python3"
  },
  "language_info": {
   "codemirror_mode": {
    "name": "ipython",
    "version": 3
   },
   "file_extension": ".py",
   "mimetype": "text/x-python",
   "name": "python",
   "nbconvert_exporter": "python",
   "pygments_lexer": "ipython3",
   "version": "3.7.3"
  }
 },
 "nbformat": 4,
 "nbformat_minor": 2
}
